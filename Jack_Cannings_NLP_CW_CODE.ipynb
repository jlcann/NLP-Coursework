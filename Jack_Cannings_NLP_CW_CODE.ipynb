{
  "nbformat": 4,
  "nbformat_minor": 0,
  "metadata": {
    "accelerator": "GPU",
    "colab": {
      "name": "CW-New.ipynb",
      "provenance": [],
      "collapsed_sections": [],
      "toc_visible": true
    },
    "kernelspec": {
      "display_name": "Python 3",
      "name": "python3"
    },
    "language_info": {
      "name": "python"
    }
  },
  "cells": [
    {
      "cell_type": "markdown",
      "metadata": {
        "id": "g0yBiCpBtWa1"
      },
      "source": [
        "NLP Coursework Individual Part\n",
        "\n",
        "Name: **Jack Cannings**\n",
        "\n",
        "URN: **6497204**\n",
        "\n",
        "Username: **JC01425**"
      ]
    },
    {
      "cell_type": "markdown",
      "metadata": {
        "id": "Z3MWBrR_RG9R"
      },
      "source": [
        "# Intro\n",
        "\n",
        "In this project I'm going to take a look at various data preperation methods and machine learning models for classifying the genre of a song based on the lyrics. The dataset which is used in the project has been sourced using a web scraper and the [Genius](https://docs.genius.com/) API\n",
        "\n",
        "I'm going to use the Google Colab Hosted Service - This is so I do not need to worry about getting all the libraries working on my local machine and I can take advantage of Colabs GPU Runtime."
      ]
    },
    {
      "cell_type": "markdown",
      "metadata": {
        "id": "HbnyaKIFwKEh"
      },
      "source": [
        "Using the Numpy library to set seed for the notebook so results are reproducible"
      ]
    },
    {
      "cell_type": "code",
      "metadata": {
        "id": "ZYI5PslHplsH"
      },
      "source": [
        "from numpy.random import seed\n",
        "seed(1234)"
      ],
      "execution_count": null,
      "outputs": []
    },
    {
      "cell_type": "markdown",
      "metadata": {
        "id": "ACGR4gF_wLi1"
      },
      "source": [
        "As I'm using Google Colab - I'm going to save all the files related to this project in my Google drive so it isn't necessary to upload them each time and instead the drive can just be mounted."
      ]
    },
    {
      "cell_type": "code",
      "metadata": {
        "colab": {
          "base_uri": "https://localhost:8080/"
        },
        "id": "JG8DpQRlQ_El",
        "outputId": "65760876-2aee-495f-da9a-de8ca63c3492"
      },
      "source": [
        "from google.colab import drive\n",
        "drive.mount('/content/drive')"
      ],
      "execution_count": null,
      "outputs": [
        {
          "output_type": "stream",
          "text": [
            "Drive already mounted at /content/drive; to attempt to forcibly remount, call drive.mount(\"/content/drive\", force_remount=True).\n"
          ],
          "name": "stdout"
        }
      ]
    },
    {
      "cell_type": "markdown",
      "metadata": {
        "id": "N8ozLpCbRd8R"
      },
      "source": [
        "Import some of the required libraries"
      ]
    },
    {
      "cell_type": "code",
      "metadata": {
        "id": "MxOMpYzgRGup"
      },
      "source": [
        "import pandas as pd\n",
        "import gensim\n",
        "from gensim import corpora\n",
        "import matplotlib.pyplot as plt\n",
        "from gensim.utils import simple_preprocess"
      ],
      "execution_count": null,
      "outputs": []
    },
    {
      "cell_type": "markdown",
      "metadata": {
        "id": "5C9G5UxXRilZ"
      },
      "source": [
        "Load the CSV file into a Pandas Dataframe"
      ]
    },
    {
      "cell_type": "code",
      "metadata": {
        "id": "fQ81OOIlRq3k"
      },
      "source": [
        "#Define the names for the columns in the data frame\n",
        "colNames = [\"Genre\", \"Song\", \"Artist\", \"Lyrics\"]\n",
        "\n",
        "#Load in the data from google drive\n",
        "data = pd.read_csv('/content/drive/MyDrive/NLP/Coursework/attempt5.csv', delimiter='~', dtype=None, names=colNames)\n",
        "\n",
        "#Load in the data from a local storage location\n",
        "#data = pd.read_csv('NLP/CW/attempt4.csv', delimiter='~', dtype=None, names=colNames)"
      ],
      "execution_count": null,
      "outputs": []
    },
    {
      "cell_type": "markdown",
      "metadata": {
        "id": "c6KH3Tb5R3kf"
      },
      "source": [
        "Convert each of the columns into String format and as a list so they can be formatted"
      ]
    },
    {
      "cell_type": "code",
      "metadata": {
        "id": "CDjTAIujR3J3"
      },
      "source": [
        "data[\"Genre\"] = data.Genre.values.astype(str).tolist()\n",
        "data[\"Song\"] = data.Song.values.astype(str).tolist()\n",
        "data[\"Artist\"] = data.Artist.values.astype(str).tolist()\n",
        "data[\"Lyrics\"] = data.Lyrics.values.astype(str).tolist()"
      ],
      "execution_count": null,
      "outputs": []
    },
    {
      "cell_type": "markdown",
      "metadata": {
        "id": "RsgL7P5CSA7x"
      },
      "source": [
        "Take a look at the Unique Genres in the Dataset"
      ]
    },
    {
      "cell_type": "code",
      "metadata": {
        "colab": {
          "base_uri": "https://localhost:8080/"
        },
        "id": "ws_UtT45SD_M",
        "outputId": "35aba960-b634-4b0a-a215-e0c74ed0c118"
      },
      "source": [
        "genres = list(set(data[\"Genre\"]))\n",
        "print(genres)"
      ],
      "execution_count": null,
      "outputs": [
        {
          "output_type": "stream",
          "text": [
            "['soul', 'musicals', 'reggae', 'emo', 'grime', 'blues', 'folk', 'metal', 'christian', 'indie']\n"
          ],
          "name": "stdout"
        }
      ]
    },
    {
      "cell_type": "markdown",
      "metadata": {
        "id": "1WMOYq4wSLYQ"
      },
      "source": [
        "Let's take a look at one of the songs, to see what formatting needs to be done in the first instance"
      ]
    },
    {
      "cell_type": "code",
      "metadata": {
        "colab": {
          "base_uri": "https://localhost:8080/"
        },
        "id": "ptUqaOuESK3V",
        "outputId": "694e725c-79b7-4878-dbf4-48cea37c2501"
      },
      "source": [
        "print(data[\"Lyrics\"][0])"
      ],
      "execution_count": null,
      "outputs": [
        {
          "output_type": "stream",
          "text": [
            "And all I am is a man\\nI want the world in my hands\\nI hate the beach but I stand\\nIn California with my toes in the sand\\nUse the sleeves of my sweater\\nLet's have an adventure\\nHead in the clouds but my gravity's centered\\nTouch my neck and I'll touch yours\\nYou in those little high waisted shorts, oh\\n\\nShe knows what I think about\\nAnd what I think about\\nOne love, two mouths\\nOne love, one house\\nNo shirt, no blouse\\nJust us, you find out\\nNothing that I wouldn’t wanna tell you about, no\\n\\n'Cause it's too cold for you here\\nAnd now, so let me hold\\nBoth your hands in the holes of my sweater\\n\\nAnd if I may just take your breath away\\nI don't mind if there's not much to say\\nSometimes the silence guides a mind\\nTo move to a place so far away\\nThe goosebumps start to raise\\nThe minute that my left hand meets your waist\\nAnd then I watch your face\\nPut my finger on your tongue\\n'Cause you love the taste, yeah\\nThese hearts adore\\nEveryone the other beats hardest for\\nInside this place is warm\\nOutside it starts to pour\\nComin' down\\nOne love, two mouths\\nOne love, one house\\nNo shirt, no blouse\\nJust us, you find out\\nNothing that I wouldn't wanna tell you about\\nNo, no, no\\n\\n'Cause it's too cold for you here\\nAnd now, so let me hold\\nBoth your hands in the holes of my sweater\\n'Cause it's too cold for you here\\nAnd now, so let me hold\\nBoth your hands in the holes of my sweater, woah\\n\\nWoah, woah, woah\\nWoah, woah, woah, woah\\nWoah, woah\\nWoah, woah, woah, woah\\nWoah, woah\\n\\n'Cause it's too cold for you here\\nAnd now, so let me hold\\nBoth your hands in the holes of my sweater\\n'Cause it's too cold for you\\nNow, let me hold\\nBoth your hands in the holes of my sweater\\nAnd it's too cold, it's too cold\\nThe holes of my sweater\n"
          ],
          "name": "stdout"
        }
      ]
    },
    {
      "cell_type": "code",
      "metadata": {
        "id": "HpnOQcBoSYnY"
      },
      "source": [
        "#Replace the double backslash new lines with single\n",
        "data[\"Lyrics\"] = [song.replace(\"\\\\n\", \"\\n\") for song in data[\"Lyrics\"]]\n",
        "\n",
        "#Replace the double new lines with a single new line\n",
        "data[\"Lyrics\"] = [song.replace(\"\\n\\n\", \"\\n\") for song in data[\"Lyrics\"]]"
      ],
      "execution_count": null,
      "outputs": []
    },
    {
      "cell_type": "markdown",
      "metadata": {
        "id": "0w33QeC5SyR5"
      },
      "source": [
        "Format is now much cleaner"
      ]
    },
    {
      "cell_type": "code",
      "metadata": {
        "colab": {
          "base_uri": "https://localhost:8080/"
        },
        "id": "RjFZ2oBHSb30",
        "outputId": "d6d10f6e-2993-420a-e95b-3aa4060fe0c4"
      },
      "source": [
        "print(data[\"Lyrics\"][0])"
      ],
      "execution_count": null,
      "outputs": [
        {
          "output_type": "stream",
          "text": [
            "And all I am is a man\n",
            "I want the world in my hands\n",
            "I hate the beach but I stand\n",
            "In California with my toes in the sand\n",
            "Use the sleeves of my sweater\n",
            "Let's have an adventure\n",
            "Head in the clouds but my gravity's centered\n",
            "Touch my neck and I'll touch yours\n",
            "You in those little high waisted shorts, oh\n",
            "She knows what I think about\n",
            "And what I think about\n",
            "One love, two mouths\n",
            "One love, one house\n",
            "No shirt, no blouse\n",
            "Just us, you find out\n",
            "Nothing that I wouldn’t wanna tell you about, no\n",
            "'Cause it's too cold for you here\n",
            "And now, so let me hold\n",
            "Both your hands in the holes of my sweater\n",
            "And if I may just take your breath away\n",
            "I don't mind if there's not much to say\n",
            "Sometimes the silence guides a mind\n",
            "To move to a place so far away\n",
            "The goosebumps start to raise\n",
            "The minute that my left hand meets your waist\n",
            "And then I watch your face\n",
            "Put my finger on your tongue\n",
            "'Cause you love the taste, yeah\n",
            "These hearts adore\n",
            "Everyone the other beats hardest for\n",
            "Inside this place is warm\n",
            "Outside it starts to pour\n",
            "Comin' down\n",
            "One love, two mouths\n",
            "One love, one house\n",
            "No shirt, no blouse\n",
            "Just us, you find out\n",
            "Nothing that I wouldn't wanna tell you about\n",
            "No, no, no\n",
            "'Cause it's too cold for you here\n",
            "And now, so let me hold\n",
            "Both your hands in the holes of my sweater\n",
            "'Cause it's too cold for you here\n",
            "And now, so let me hold\n",
            "Both your hands in the holes of my sweater, woah\n",
            "Woah, woah, woah\n",
            "Woah, woah, woah, woah\n",
            "Woah, woah\n",
            "Woah, woah, woah, woah\n",
            "Woah, woah\n",
            "'Cause it's too cold for you here\n",
            "And now, so let me hold\n",
            "Both your hands in the holes of my sweater\n",
            "'Cause it's too cold for you\n",
            "Now, let me hold\n",
            "Both your hands in the holes of my sweater\n",
            "And it's too cold, it's too cold\n",
            "The holes of my sweater\n"
          ],
          "name": "stdout"
        }
      ]
    },
    {
      "cell_type": "markdown",
      "metadata": {
        "id": "otHd00e8S1bf"
      },
      "source": [
        "View the class distribution for each of the genres"
      ]
    },
    {
      "cell_type": "code",
      "metadata": {
        "colab": {
          "base_uri": "https://localhost:8080/",
          "height": 505
        },
        "id": "WamrVm-IS493",
        "outputId": "43b00c31-7852-4c87-8c7a-9c4b3aebabff"
      },
      "source": [
        "#Create an empty dictionary\n",
        "genre_dic_sum = {}\n",
        "\n",
        "#Loop through each Genre and acquire the counts of each Genre in the dataset\n",
        "for i in data[\"Genre\"].unique():\n",
        "   genre_dic_sum[str(i)] = len(data[data[\"Genre\"] == i])\n",
        "\n",
        "plt.rcParams.update({'font.size': 13})\n",
        "plt.figure(figsize=(12,8))\n",
        "plt.bar(genre_dic_sum.keys(), genre_dic_sum.values())"
      ],
      "execution_count": null,
      "outputs": [
        {
          "output_type": "execute_result",
          "data": {
            "text/plain": [
              "<BarContainer object of 10 artists>"
            ]
          },
          "metadata": {
            "tags": []
          },
          "execution_count": 33
        },
        {
          "output_type": "display_data",
          "data": {
            "image/png": "[encoded data removed]",
            "text/plain": [
              "<Figure size 864x576 with 1 Axes>"
            ]
          },
          "metadata": {
            "tags": [],
            "needs_background": "light"
          }
        }
      ]
    },
    {
      "cell_type": "markdown",
      "metadata": {
        "id": "HQVSwRj8VoON"
      },
      "source": [
        "From the chat it's clear to see that a couple of the genres are very under-represented, this is going to cause issues with training the models, which won't generalise well on these Genres, so a couple of them will be removed.\n",
        "\n",
        "I also want to reduce this to a 5 class problem - so I am going to remove genres which I think are going to be harder to classify as the lyrics are very generic - such as indie."
      ]
    },
    {
      "cell_type": "code",
      "metadata": {
        "id": "8L7RNnJhV4RB"
      },
      "source": [
        "#Define the genres to drop\n",
        "genres_to_drop = [\"blues\", \"metal\", \"christian\", \"emo\", \"indie\"]\n",
        "# genres_to_keep = [\"indie\", \"musicals\", \"metal\", \"christian\", \"grime\"]\n",
        "\n",
        "#Loop through all data, if genre in above list, drop the row.\n",
        "for i in range(0, len(data)):\n",
        "  if data[\"Genre\"][i] in genres_to_drop:\n",
        "    data = data.drop(index=i)\n"
      ],
      "execution_count": null,
      "outputs": []
    },
    {
      "cell_type": "markdown",
      "metadata": {
        "id": "kb_JphQHXyNZ"
      },
      "source": [
        "Now that we've lost a lot of data - the index must be reset. If this isn't done, any loops through the range of the dataset (range(0, len(dataset) will cause an error, as the indexes which contained the genres above have been removed. The command below resets the indexes."
      ]
    },
    {
      "cell_type": "code",
      "metadata": {
        "id": "JDH6WvCAWuew"
      },
      "source": [
        "data = data.reset_index(drop = True)"
      ],
      "execution_count": null,
      "outputs": []
    },
    {
      "cell_type": "code",
      "metadata": {
        "colab": {
          "base_uri": "https://localhost:8080/"
        },
        "id": "VS04kbIFj5wj",
        "outputId": "efaa94d4-d2c2-4b4d-a03c-934dad600f7b"
      },
      "source": [
        "#Update the genres variable which will be used later\n",
        "genres = list(set(data[\"Genre\"]))\n",
        "print(genres)"
      ],
      "execution_count": null,
      "outputs": [
        {
          "output_type": "stream",
          "text": [
            "['soul', 'musicals', 'reggae', 'grime', 'folk']\n"
          ],
          "name": "stdout"
        }
      ]
    },
    {
      "cell_type": "markdown",
      "metadata": {
        "id": "2bzLy2O5X6QC"
      },
      "source": [
        "We can now take another look at the genres distribution"
      ]
    },
    {
      "cell_type": "code",
      "metadata": {
        "colab": {
          "base_uri": "https://localhost:8080/",
          "height": 505
        },
        "id": "K8LBEpEMX2IF",
        "outputId": "80343991-1255-4c4a-f28c-15ba7588c9fc"
      },
      "source": [
        "#Create an empty dictionary\n",
        "genre_dic_sum = {}\n",
        "\n",
        "#Loop through each Genre and acquire the counts of each Genre in the dataset\n",
        "for i in data[\"Genre\"].unique():\n",
        "   genre_dic_sum[str(i)] = len(data[data[\"Genre\"] == i])\n",
        "plt.rcParams.update({'font.size': 13})\n",
        "\n",
        "plt.figure(figsize=(12,8))\n",
        "plt.bar(genre_dic_sum.keys(), genre_dic_sum.values())"
      ],
      "execution_count": null,
      "outputs": [
        {
          "output_type": "execute_result",
          "data": {
            "text/plain": [
              "<BarContainer object of 5 artists>"
            ]
          },
          "metadata": {
            "tags": []
          },
          "execution_count": 37
        },
        {
          "output_type": "display_data",
          "data": {
            "image/png": "[encoded data removed]",
            "text/plain": [
              "<Figure size 864x576 with 1 Axes>"
            ]
          },
          "metadata": {
            "tags": [],
            "needs_background": "light"
          }
        }
      ]
    },
    {
      "cell_type": "markdown",
      "metadata": {
        "id": "j4gp4VfJYOXh"
      },
      "source": [
        "There are still a couple of classes which are less represented - but these classes, Grime and Reggae, are very distinct in the language used, so I do not believe this is going to cause issues with the classifier.\n",
        "\n",
        "Now we need to do some more data cleaning - this is going to involve removing duplicates, grammar, and converting everything to lower case.\n",
        "\n",
        "First, removing duplicates"
      ]
    },
    {
      "cell_type": "code",
      "metadata": {
        "id": "CqjSSBcJCu92"
      },
      "source": [
        "#An array to store the indexes of songs which are duplicates\n",
        "duplicated_indexes = []\n",
        "\n",
        "#Loop through the whole dataset and append the indexes of duplicates songs to above array.\n",
        "for i in range(0, len(data)):\n",
        "  if data.duplicated(subset=([\"Song\"] + [\"Artist\"]))[i] == True:\n",
        "    duplicated_indexes += [i]\n"
      ],
      "execution_count": null,
      "outputs": []
    },
    {
      "cell_type": "markdown",
      "metadata": {
        "id": "d00NjV6uxkSN"
      },
      "source": [
        "Before removing the indexes stored in the array, I wanted to validate that this method wasn't going to delete both instances of a song, so I wrote a loop to view the song names assigned to these indexes."
      ]
    },
    {
      "cell_type": "code",
      "metadata": {
        "id": "T1xwrdUNwDlL"
      },
      "source": [
        "songs = []\n",
        "for i in duplicated_indexes:\n",
        "  songs.append(data[\"Song\"][i])"
      ],
      "execution_count": null,
      "outputs": []
    },
    {
      "cell_type": "markdown",
      "metadata": {
        "id": "tLpMCtY7xxIV"
      },
      "source": [
        "From observing the contents of this varaible, I can see that only a single instance of each song is going to be removed, unless that song appeared >2 times in the dataset."
      ]
    },
    {
      "cell_type": "code",
      "metadata": {
        "colab": {
          "base_uri": "https://localhost:8080/"
        },
        "id": "CR2oE8XowWBo",
        "outputId": "9bb26259-3a8e-4b0b-bf43-73c5cd2a9bed"
      },
      "source": [
        "sorted(songs)"
      ],
      "execution_count": null,
      "outputs": [
        {
          "output_type": "execute_result",
          "data": {
            "text/plain": [
              "['Addicted',\n",
              " 'All Is Found (Kacey Musgraves Version)',\n",
              " 'All I’ve Ever Known',\n",
              " 'All My Friends',\n",
              " 'An Evening I Will Not Forget (Acoustic)',\n",
              " \"Arsonist's Lullabye\",\n",
              " 'Between the Bars',\n",
              " 'Chant',\n",
              " 'Chant II',\n",
              " 'Cherry Wine (Live)',\n",
              " 'Come On Eileen',\n",
              " 'Count on Me',\n",
              " 'Epic III',\n",
              " 'For Island Fires and Family',\n",
              " \"Foreigner's God\",\n",
              " 'From Eden',\n",
              " 'Glory',\n",
              " \"I Know Where I've Been\",\n",
              " \"If I Go, I'm Goin\",\n",
              " 'In a Week',\n",
              " 'In the Woods Somewhere',\n",
              " 'It Will Come Back',\n",
              " 'Jackie and Wilson',\n",
              " 'Just Friends',\n",
              " 'Lady Marmalade',\n",
              " 'Like Real People Do',\n",
              " 'Livin’ It Up on Top',\n",
              " \"Master Blaster (Jammin')\",\n",
              " \"Moment's Silence (Common Tongue)\",\n",
              " 'Moments Passed',\n",
              " 'NFWMB',\n",
              " 'No Woman',\n",
              " 'Privacy',\n",
              " 'Redemption Song',\n",
              " 'Road to Hell',\n",
              " 'Run',\n",
              " 'Save Yourself',\n",
              " 'Sedated',\n",
              " 'Shrike',\n",
              " 'Someone New',\n",
              " 'The Song of Purple Summer',\n",
              " 'Thinking Out Loud',\n",
              " 'To Be Alone',\n",
              " 'Wait for Me',\n",
              " 'Way Down Hadestown']"
            ]
          },
          "metadata": {
            "tags": []
          },
          "execution_count": 40
        }
      ]
    },
    {
      "cell_type": "markdown",
      "metadata": {
        "id": "uwYfTpyzx-wB"
      },
      "source": [
        "Time to drop the indexes which contain the duplicated songs and then reset the index once more."
      ]
    },
    {
      "cell_type": "code",
      "metadata": {
        "id": "rU-VKgUfC77r"
      },
      "source": [
        "for i in duplicated_indexes:\n",
        "  data = data.drop(index=i)\n",
        "\n",
        "data = data.reset_index(drop = True)"
      ],
      "execution_count": null,
      "outputs": []
    },
    {
      "cell_type": "markdown",
      "metadata": {
        "id": "jH2roKOyyE-V"
      },
      "source": [
        "Once again take a look at the class distribution."
      ]
    },
    {
      "cell_type": "code",
      "metadata": {
        "colab": {
          "base_uri": "https://localhost:8080/",
          "height": 508
        },
        "id": "c04ZqqraDKxo",
        "outputId": "620fd228-6180-44f6-f6da-148a3b96ddac"
      },
      "source": [
        "#Create an empty dictionary\n",
        "genre_dic_sum = {}\n",
        "\n",
        "#Loop through each Genre and acquire the counts of each Genre in the dataset\n",
        "for i in data[\"Genre\"].unique():\n",
        "   genre_dic_sum[str(i)] = len(data[data[\"Genre\"] == i])\n",
        "plt.rcParams.update({'font.size': 13})\n",
        "\n",
        "plt.figure(figsize=(12,8))\n",
        "plt.bar(genre_dic_sum.keys(), genre_dic_sum.values())"
      ],
      "execution_count": null,
      "outputs": [
        {
          "output_type": "execute_result",
          "data": {
            "text/plain": [
              "<BarContainer object of 5 artists>"
            ]
          },
          "metadata": {
            "tags": []
          },
          "execution_count": 42
        },
        {
          "output_type": "display_data",
          "data": {
            "image/png": "[encoded data removed]",
            "text/plain": [
              "<Figure size 864x576 with 1 Axes>"
            ]
          },
          "metadata": {
            "tags": [],
            "needs_background": "light"
          }
        }
      ]
    },
    {
      "cell_type": "markdown",
      "metadata": {
        "id": "QxoPW9K2yKR5"
      },
      "source": [
        "Some more data cleaning needs to happen now - We'll use the regular expression library to remove punctuation, and then convert all song words to lowercase."
      ]
    },
    {
      "cell_type": "code",
      "metadata": {
        "id": "HSG2yMJ1Ybim"
      },
      "source": [
        "# Load the regular expression library\n",
        "import re\n",
        "\n",
        "# Remove punctuation\n",
        "data['lyrics_processed'] = data['Lyrics'].map(lambda x: re.sub('[,()\\.!?\\']', '', x))\n",
        "\n",
        "# Convert the titles to lowercase\n",
        "data['lyrics_processed'] = data['lyrics_processed'].map(lambda x: x.lower())\n"
      ],
      "execution_count": null,
      "outputs": []
    },
    {
      "cell_type": "markdown",
      "metadata": {
        "id": "-bhsqUTKYgTO"
      },
      "source": [
        "Take a look at the difference in total characters"
      ]
    },
    {
      "cell_type": "code",
      "metadata": {
        "colab": {
          "base_uri": "https://localhost:8080/"
        },
        "id": "j9Xd3hXWYe0e",
        "outputId": "e0b1fad8-9dfc-4bac-ac0e-9ec492b91f99"
      },
      "source": [
        "print(\"Char length of Song 1 with punctuation: {} - Song 1 without punctuation: {}\"\n",
        "  .format(len(data[\"Lyrics\"][1]), len(data[\"lyrics_processed\"][1])))"
      ],
      "execution_count": null,
      "outputs": [
        {
          "output_type": "stream",
          "text": [
            "Char length of Song 1 with punctuation: 1901 - Song 1 without punctuation: 1809\n"
          ],
          "name": "stdout"
        }
      ]
    },
    {
      "cell_type": "code",
      "metadata": {
        "colab": {
          "base_uri": "https://localhost:8080/"
        },
        "id": "zFHw7OfnYlZC",
        "outputId": "dabddf6b-e5d6-4bee-e17d-4ce320c11422"
      },
      "source": [
        "print(\"Total characters in dataset with punctuation: {}\".format(sum(len(i) for i in data[\"Lyrics\"])))\n",
        "print(\"Total characters in dataset without punctuation: {}\".format(sum(len(i) for i in data[\"lyrics_processed\"])))\n",
        "print(\"Difference: -{}\".format((sum(len(i) for i in data[\"Lyrics\"])) - (sum(len(i) for i in data[\"lyrics_processed\"]))))"
      ],
      "execution_count": null,
      "outputs": [
        {
          "output_type": "stream",
          "text": [
            "Total characters in dataset with punctuation: 7786001\n",
            "Total characters in dataset without punctuation: 7515276\n",
            "Difference: -270725\n"
          ],
          "name": "stdout"
        }
      ]
    },
    {
      "cell_type": "markdown",
      "metadata": {
        "id": "rOzyQw20Y2Ef"
      },
      "source": [
        "Create a function which we can use to convert the lyrics sentences into individual word tokens"
      ]
    },
    {
      "cell_type": "code",
      "metadata": {
        "id": "hHZFknQwY8L_"
      },
      "source": [
        "def sent_to_words(songs):\n",
        "    for song in songs:\n",
        "        yield(gensim.utils.simple_preprocess(str(song), deacc=True))  # deacc=True removes any remaining punctuations\n",
        "\n",
        "\n",
        "song_data = data[\"lyrics_processed\"].tolist()\n",
        "song_data_words = list(sent_to_words(song_data))"
      ],
      "execution_count": null,
      "outputs": []
    },
    {
      "cell_type": "markdown",
      "metadata": {
        "id": "LuCEjnHLyZvM"
      },
      "source": [
        "Let's compare a songs before and after tokenisation."
      ]
    },
    {
      "cell_type": "code",
      "metadata": {
        "colab": {
          "base_uri": "https://localhost:8080/"
        },
        "id": "vk_QRAylZA8C",
        "outputId": "36478499-91e5-440a-b247-1acd1d5cb78b"
      },
      "source": [
        "print(f'Before tokenisation: \\n\\n{song_data[0][:44]} \\n \\nAfter tokenisation: \\n\\n{song_data_words[0][:10]}')"
      ],
      "execution_count": null,
      "outputs": [
        {
          "output_type": "stream",
          "text": [
            "Before tokenisation: \n",
            "\n",
            "now ive heard there was a secret chord\n",
            "that  \n",
            " \n",
            "After tokenisation: \n",
            "\n",
            "['now', 'ive', 'heard', 'there', 'was', 'secret', 'chord', 'that', 'david', 'played']\n"
          ],
          "name": "stdout"
        }
      ]
    },
    {
      "cell_type": "markdown",
      "metadata": {
        "id": "zzcAlvJ4Zk3Q"
      },
      "source": [
        "Let's flatten the song_data_words variable so we can see how many words there are in the dataset.\n",
        "\n",
        "This number is still very large - but there is more processing to come."
      ]
    },
    {
      "cell_type": "code",
      "metadata": {
        "colab": {
          "base_uri": "https://localhost:8080/"
        },
        "id": "_rLMVwSWZqxw",
        "outputId": "2d879a56-2b41-4b1d-db3e-fff8ece42abe"
      },
      "source": [
        "import itertools\n",
        "flat_words = list(itertools.chain(*song_data_words))\n",
        "len(flat_words)"
      ],
      "execution_count": null,
      "outputs": [
        {
          "output_type": "execute_result",
          "data": {
            "text/plain": [
              "1459221"
            ]
          },
          "metadata": {
            "tags": []
          },
          "execution_count": 48
        }
      ]
    },
    {
      "cell_type": "markdown",
      "metadata": {
        "id": "HYexu_arZ3Px"
      },
      "source": [
        "Add this new list with lyrics tokenised to the dataframe, along with an extra column which contains the length of the song in tokens, this could be useful later for calculating average song lengths."
      ]
    },
    {
      "cell_type": "code",
      "metadata": {
        "colab": {
          "base_uri": "https://localhost:8080/"
        },
        "id": "GnInc6tkaAJy",
        "outputId": "cfb7e736-bf3e-4484-9d6b-4b15c5cabb52"
      },
      "source": [
        "data['lyrics_words'] = 0\n",
        "data['song_length'] = 0\n",
        "\n",
        "for i in range(0, len(song_data_words)):\n",
        "    data['lyrics_words'][i] = song_data_words[i]\n",
        "    data['song_length'][i] = len(song_data_words[i])"
      ],
      "execution_count": null,
      "outputs": [
        {
          "output_type": "stream",
          "text": [
            "/usr/local/lib/python3.7/dist-packages/ipykernel_launcher.py:5: SettingWithCopyWarning: \n",
            "A value is trying to be set on a copy of a slice from a DataFrame\n",
            "\n",
            "See the caveats in the documentation: https://pandas.pydata.org/pandas-docs/stable/user_guide/indexing.html#returning-a-view-versus-a-copy\n",
            "  \"\"\"\n",
            "/usr/local/lib/python3.7/dist-packages/pandas/core/indexing.py:670: SettingWithCopyWarning: \n",
            "A value is trying to be set on a copy of a slice from a DataFrame\n",
            "\n",
            "See the caveats in the documentation: https://pandas.pydata.org/pandas-docs/stable/user_guide/indexing.html#returning-a-view-versus-a-copy\n",
            "  iloc._setitem_with_indexer(indexer, value)\n",
            "/usr/local/lib/python3.7/dist-packages/ipykernel_launcher.py:6: SettingWithCopyWarning: \n",
            "A value is trying to be set on a copy of a slice from a DataFrame\n",
            "\n",
            "See the caveats in the documentation: https://pandas.pydata.org/pandas-docs/stable/user_guide/indexing.html#returning-a-view-versus-a-copy\n",
            "  \n"
          ],
          "name": "stderr"
        }
      ]
    },
    {
      "cell_type": "markdown",
      "metadata": {
        "id": "ApPACkfIaJWs"
      },
      "source": [
        "Let's have a look at the average song length - this may be used for the sequence length later for the models.\n",
        "\n",
        "This has been calculated before the removal of stopwords, so we will recalculate this afterwards and compare the difference. "
      ]
    },
    {
      "cell_type": "code",
      "metadata": {
        "colab": {
          "base_uri": "https://localhost:8080/"
        },
        "id": "N1PDYhawaExs",
        "outputId": "fe33204d-722c-4b93-d9b8-c9f10c6380f7"
      },
      "source": [
        "average_length = round(sum(data.song_length) / len(data))\n",
        "print(f'Average length of a song in the dataset: {average_length}')"
      ],
      "execution_count": null,
      "outputs": [
        {
          "output_type": "stream",
          "text": [
            "Average length of a song in the dataset: 379\n"
          ],
          "name": "stdout"
        }
      ]
    },
    {
      "cell_type": "markdown",
      "metadata": {
        "id": "7jphy3sJasXu"
      },
      "source": [
        "Removing Stopwords\n",
        "\n",
        "To remove stopwords, I will use the NLTK Corpus Eng Stopwords library - we may remove additional stopwords later on after observing the most popular words which remain after this process."
      ]
    },
    {
      "cell_type": "code",
      "metadata": {
        "colab": {
          "base_uri": "https://localhost:8080/"
        },
        "id": "De3CzWVHavBg",
        "outputId": "06eef3c6-7cf2-4ff3-9d2d-0a00dc3be5c4"
      },
      "source": [
        "#Import the required library\n",
        "import nltk\n",
        "from nltk.corpus import stopwords\n",
        "\n",
        "#Download the stopwords\n",
        "nltk.download('stopwords')\n",
        "\n",
        "#Assign the english stopwords to a variable\n",
        "eng_stopwords = stopwords.words('english')"
      ],
      "execution_count": null,
      "outputs": [
        {
          "output_type": "stream",
          "text": [
            "[nltk_data] Downloading package stopwords to /root/nltk_data...\n",
            "[nltk_data]   Unzipping corpora/stopwords.zip.\n"
          ],
          "name": "stdout"
        }
      ]
    },
    {
      "cell_type": "code",
      "metadata": {
        "colab": {
          "base_uri": "https://localhost:8080/"
        },
        "id": "e-cp1G-IbCAZ",
        "outputId": "ab495e80-d297-43af-ddd8-1618f805f352"
      },
      "source": [
        "#Create a new col in the data to hold the lyrics info with stopwords removed\n",
        "data['lyrics_words_stopwords'] = data.lyrics_words\n",
        "\n",
        "#Loop over every song in the dataset. For each song, loop through the words.\n",
        "#If the word does not exist in the eng_stopwords list, then that word can remain, otherwise it is dropped.\n",
        "\n",
        "for song in range(0, len(data['lyrics_words_stopwords'])):\n",
        "    data['lyrics_words_stopwords'][song] = [word for word in data['lyrics_words_stopwords'][song] if not word in eng_stopwords]\n"
      ],
      "execution_count": null,
      "outputs": [
        {
          "output_type": "stream",
          "text": [
            "/usr/local/lib/python3.7/dist-packages/ipykernel_launcher.py:8: SettingWithCopyWarning: \n",
            "A value is trying to be set on a copy of a slice from a DataFrame\n",
            "\n",
            "See the caveats in the documentation: https://pandas.pydata.org/pandas-docs/stable/user_guide/indexing.html#returning-a-view-versus-a-copy\n",
            "  \n"
          ],
          "name": "stderr"
        }
      ]
    },
    {
      "cell_type": "markdown",
      "metadata": {
        "id": "bstq_CFIbeMC"
      },
      "source": [
        "Let's compare some of the numbers now that stopwords have been removed:"
      ]
    },
    {
      "cell_type": "code",
      "metadata": {
        "colab": {
          "base_uri": "https://localhost:8080/"
        },
        "id": "j5axpJAnbhSJ",
        "outputId": "2da1d5b1-4a31-43fa-8b18-d4d4ded37fdb"
      },
      "source": [
        "flat_words_stopwords = list(itertools.chain(*data['lyrics_words_stopwords']))\n",
        "dataset_vocabulary = list(sorted(set(flat_words)))\n",
        "dataset_vocabulary_stopwords = list(sorted(set(flat_words_stopwords)))\n",
        "\n",
        "print(f'Number of words BEFORE stopwords have been removed {len(flat_words)}')\n",
        "print(f'Number of words AFTER stopwords have been removed {len(flat_words_stopwords)} \\n')\n",
        "print(f'Vocabulary length BEFORE stopwords have been removed {len(dataset_vocabulary)}')\n",
        "print(f'Vocabulary length AFTER stopwords have been removed {len(dataset_vocabulary_stopwords)}')"
      ],
      "execution_count": null,
      "outputs": [
        {
          "output_type": "stream",
          "text": [
            "Number of words BEFORE stopwords have been removed 1459221\n",
            "Number of words AFTER stopwords have been removed 886272 \n",
            "\n",
            "Vocabulary length BEFORE stopwords have been removed 56180\n",
            "Vocabulary length AFTER stopwords have been removed 56038\n"
          ],
          "name": "stdout"
        }
      ]
    },
    {
      "cell_type": "markdown",
      "metadata": {
        "id": "JAO46Rfi3htj"
      },
      "source": [
        "The size of the dataset has almost been cut in half in terms of tokens, this is going to positively impact the time it takes to train the models and will hopefully make each genre more distinctive."
      ]
    },
    {
      "cell_type": "markdown",
      "metadata": {
        "id": "uQsPJcnRy7o9"
      },
      "source": [
        "And now recalculate the average length of each song with stopwords removed"
      ]
    },
    {
      "cell_type": "code",
      "metadata": {
        "colab": {
          "base_uri": "https://localhost:8080/"
        },
        "id": "O-daSxRpzMhZ",
        "outputId": "0dd85b88-9ecc-4e8d-82e1-f5b0598d9dfa"
      },
      "source": [
        "data['song_length_stopwords'] = 0\n",
        "\n",
        "for i in range(0, len(data)):\n",
        "    data['song_length_stopwords'][i] = len(data[\"lyrics_words_stopwords\"][i])"
      ],
      "execution_count": null,
      "outputs": [
        {
          "output_type": "stream",
          "text": [
            "/usr/local/lib/python3.7/dist-packages/ipykernel_launcher.py:4: SettingWithCopyWarning: \n",
            "A value is trying to be set on a copy of a slice from a DataFrame\n",
            "\n",
            "See the caveats in the documentation: https://pandas.pydata.org/pandas-docs/stable/user_guide/indexing.html#returning-a-view-versus-a-copy\n",
            "  after removing the cwd from sys.path.\n"
          ],
          "name": "stderr"
        }
      ]
    },
    {
      "cell_type": "code",
      "metadata": {
        "colab": {
          "base_uri": "https://localhost:8080/"
        },
        "id": "o59Ac-dIzvhy",
        "outputId": "271fd97a-af73-482c-cbb4-898adf4279c4"
      },
      "source": [
        "average_length_stopwords = round(sum(data.song_length_stopwords) / len(data))\n",
        "print(f'Average length of a song in the dataset with stopwords removed: {average_length_stopwords}')\n",
        "print(f'Average length of a song in the dataset: {average_length}')\n",
        "print(f'Difference: -{average_length - average_length_stopwords}')"
      ],
      "execution_count": null,
      "outputs": [
        {
          "output_type": "stream",
          "text": [
            "Average length of a song in the dataset with stopwords removed: 230\n",
            "Average length of a song in the dataset: 379\n",
            "Difference: -149\n"
          ],
          "name": "stdout"
        }
      ]
    },
    {
      "cell_type": "markdown",
      "metadata": {
        "id": "QvdfdmoVbmGp"
      },
      "source": [
        "Let's view the most common words remaining in the dataset after these stopwords have been removed"
      ]
    },
    {
      "cell_type": "code",
      "metadata": {
        "colab": {
          "base_uri": "https://localhost:8080/"
        },
        "id": "MYZKD8g_bp1C",
        "outputId": "9c7b2a3a-e48e-4cfd-e5c1-971239754203"
      },
      "source": [
        "#Import some of the required libs\n",
        "import numpy as np\n",
        "from collections import Counter\n",
        "\n",
        "#Use counter library to total up each word in the lyrics stopwords data column.\n",
        "post_stopwords_counts = Counter(flat_words_stopwords)\n",
        "\n",
        "top20 = dict(zip(dict(post_stopwords_counts.most_common(20)).keys(), np.zeros(20)))\n",
        "\n",
        "for song in data.lyrics_words_stopwords:\n",
        "  for word in top20.keys():\n",
        "    if word in song:\n",
        "      top20[word] += 1\n",
        "for key in top20.keys():\n",
        "  top20[key] = str(\"{0:.0%}\".format(round(top20[key]/len(data), 2)))\n",
        "\n",
        "top20"
      ],
      "execution_count": null,
      "outputs": [
        {
          "output_type": "execute_result",
          "data": {
            "text/plain": [
              "{'baby': '22%',\n",
              " 'come': '36%',\n",
              " 'dont': '53%',\n",
              " 'get': '43%',\n",
              " 'go': '44%',\n",
              " 'got': '42%',\n",
              " 'im': '57%',\n",
              " 'know': '59%',\n",
              " 'like': '57%',\n",
              " 'love': '42%',\n",
              " 'man': '31%',\n",
              " 'never': '39%',\n",
              " 'oh': '42%',\n",
              " 'one': '44%',\n",
              " 'say': '40%',\n",
              " 'see': '45%',\n",
              " 'time': '41%',\n",
              " 'wanna': '26%',\n",
              " 'yeah': '36%',\n",
              " 'youre': '37%'}"
            ]
          },
          "metadata": {
            "tags": []
          },
          "execution_count": 56
        }
      ]
    },
    {
      "cell_type": "markdown",
      "metadata": {
        "id": "ext_A-3Ec_Bu"
      },
      "source": [
        "It's clear that a few words are still present in the majority of songs, such as 'im' which is present in 60% of the songs in the dataset. For now though, I won't be removing any more tokens and will move onto additional data experimentation. This is something that could be returned to in the future."
      ]
    },
    {
      "cell_type": "markdown",
      "metadata": {
        "id": "tWT7lRZ9dKtS"
      },
      "source": [
        "The next step is to create a Lemmatised dataset and a stemmed dataset. Both of these datasets will then be experimented with,\n",
        "\n",
        "First up is Lemmatise:"
      ]
    },
    {
      "cell_type": "code",
      "metadata": {
        "id": "RwQUXRFudI_y"
      },
      "source": [
        "#Create a new col to hold the lemmatised lyrics\n",
        "data['Lyrics_Lem'] = data['lyrics_words_stopwords']"
      ],
      "execution_count": null,
      "outputs": []
    },
    {
      "cell_type": "code",
      "metadata": {
        "colab": {
          "base_uri": "https://localhost:8080/"
        },
        "id": "BIMt4-nSdgsY",
        "outputId": "ca4bebc8-33f0-48e0-bb83-f6b109b14c87"
      },
      "source": [
        "#Following code has been taken from NLP Lab - Dr Bogdan V\n",
        "\n",
        "#Import library\n",
        "from nltk.corpus import wordnet\n",
        "nltk.download('averaged_perceptron_tagger')\n",
        "\n",
        "def get_wordnet_pos(word):\n",
        "    \"\"\"Map POS tag to first character lemmatize() accepts\"\"\"\n",
        "    tag = nltk.pos_tag([word])[0][1][0].upper()\n",
        "    # now we need to convert from nltk to wordnet POS notations (for compatibility reasons)\n",
        "    tag_dict = {\"J\": wordnet.ADJ,\n",
        "                \"N\": wordnet.NOUN,\n",
        "                \"V\": wordnet.VERB,\n",
        "                \"R\": wordnet.ADV}\n",
        "    return tag_dict.get(tag, wordnet.NOUN) # return and default to noun if not found\n",
        "\n",
        "from nltk.stem import WordNetLemmatizer\n",
        "lemmatizer = WordNetLemmatizer()"
      ],
      "execution_count": null,
      "outputs": [
        {
          "output_type": "stream",
          "text": [
            "[nltk_data] Downloading package averaged_perceptron_tagger to\n",
            "[nltk_data]     /root/nltk_data...\n",
            "[nltk_data]   Unzipping taggers/averaged_perceptron_tagger.zip.\n"
          ],
          "name": "stdout"
        }
      ]
    },
    {
      "cell_type": "code",
      "metadata": {
        "colab": {
          "base_uri": "https://localhost:8080/"
        },
        "id": "RXjZV_07dzuL",
        "outputId": "b8d48efa-759c-49f2-d5dd-ef7c2913fd57"
      },
      "source": [
        "#Use Lemmatiser function on data - this can take a while to run.\n",
        "\n",
        "#Download Wordnet\n",
        "nltk.download('wordnet')\n",
        "\n",
        "#Apply lemmatisation\n",
        "for i in range(0, len(data['Lyrics_Lem'])):\n",
        "  data['Lyrics_Lem'][i] = [lemmatizer.lemmatize(x, pos=get_wordnet_pos(x)) for x in data['Lyrics_Lem'][i]]\n",
        "\n"
      ],
      "execution_count": null,
      "outputs": [
        {
          "output_type": "stream",
          "text": [
            "[nltk_data] Downloading package wordnet to /root/nltk_data...\n",
            "[nltk_data]   Unzipping corpora/wordnet.zip.\n"
          ],
          "name": "stdout"
        },
        {
          "output_type": "stream",
          "text": [
            "/usr/local/lib/python3.7/dist-packages/ipykernel_launcher.py:8: SettingWithCopyWarning: \n",
            "A value is trying to be set on a copy of a slice from a DataFrame\n",
            "\n",
            "See the caveats in the documentation: https://pandas.pydata.org/pandas-docs/stable/user_guide/indexing.html#returning-a-view-versus-a-copy\n",
            "  \n"
          ],
          "name": "stderr"
        }
      ]
    },
    {
      "cell_type": "markdown",
      "metadata": {
        "id": "rJ8Q34YUeLqr"
      },
      "source": [
        "Now let's try some stemming - this is an easier process than lemmatising"
      ]
    },
    {
      "cell_type": "code",
      "metadata": {
        "colab": {
          "base_uri": "https://localhost:8080/"
        },
        "id": "ldzJFpSyet3l",
        "outputId": "92b31b21-faad-4d7f-9ea4-63a19b24e53b"
      },
      "source": [
        "#We can use NLTK for stemming, again.\n",
        "\n",
        "#Import the stemmer\n",
        "from nltk.stem.porter import PorterStemmer\n",
        "\n",
        "#Create a new column for the stemmed tokens\n",
        "data['Lyrics_Stem'] = data['lyrics_words_stopwords']\n",
        "\n",
        "#Create stem function\n",
        "stemmer = PorterStemmer()\n",
        "\n",
        "#Loop over all songs in data and apply stemmer to each word:\n",
        "for song_index in range(0, len(data)):\n",
        "  data['Lyrics_Stem'][song_index] = [stemmer.stem(word) for word in data['Lyrics_Stem'][song_index]]\n"
      ],
      "execution_count": null,
      "outputs": [
        {
          "output_type": "stream",
          "text": [
            "/usr/local/lib/python3.7/dist-packages/ipykernel_launcher.py:14: SettingWithCopyWarning: \n",
            "A value is trying to be set on a copy of a slice from a DataFrame\n",
            "\n",
            "See the caveats in the documentation: https://pandas.pydata.org/pandas-docs/stable/user_guide/indexing.html#returning-a-view-versus-a-copy\n",
            "  \n"
          ],
          "name": "stderr"
        }
      ]
    },
    {
      "cell_type": "markdown",
      "metadata": {
        "id": "GMO5pBfcfbgW"
      },
      "source": [
        "Let's compare Normal Tokens, Lemma Tokens and Stemmed Tokens"
      ]
    },
    {
      "cell_type": "code",
      "metadata": {
        "colab": {
          "base_uri": "https://localhost:8080/"
        },
        "id": "ZZMsmhPxfirm",
        "outputId": "05fa4d05-479f-425f-aabb-dc402bc1ce65"
      },
      "source": [
        "print(f'Normal tokens: \\n\\n {data[\"lyrics_words\"][10][:15]} \\n\\n')\n",
        "print(f'Lemma tokens: \\n\\n {data[\"Lyrics_Lem\"][10][:15]} \\n\\n')\n",
        "print(f'Stemmed tokens: \\n\\n {data[\"Lyrics_Stem\"][10][:15]} \\n\\n')"
      ],
      "execution_count": null,
      "outputs": [
        {
          "output_type": "stream",
          "text": [
            "Normal tokens: \n",
            "\n",
            " ['can', 'see', 'you', 'standing', 'honey', 'with', 'his', 'arms', 'around', 'your', 'body', 'laughin', 'but', 'the', 'jokes'] \n",
            "\n",
            "\n",
            "Lemma tokens: \n",
            "\n",
            " ['see', 'stand', 'honey', 'arm', 'around', 'body', 'laughin', 'joke', 'funny', 'take', 'five', 'whole', 'minute', 'pack', 'u'] \n",
            "\n",
            "\n",
            "Stemmed tokens: \n",
            "\n",
            " ['see', 'stand', 'honey', 'arm', 'around', 'bodi', 'laughin', 'joke', 'funni', 'took', 'five', 'whole', 'minut', 'pack', 'us'] \n",
            "\n",
            "\n"
          ],
          "name": "stdout"
        }
      ]
    },
    {
      "cell_type": "markdown",
      "metadata": {
        "id": "NN4wGl7XjRoO"
      },
      "source": [
        "The final bit of pre-processing that we need to do is one-hot-encoding for the labels"
      ]
    },
    {
      "cell_type": "code",
      "metadata": {
        "colab": {
          "base_uri": "https://localhost:8080/"
        },
        "id": "wveS7hVVjWxR",
        "outputId": "994ab296-736c-49e7-a055-adb562b56a1d"
      },
      "source": [
        "#Import Keras one hot encoding lib:\n",
        "from keras.utils.np_utils import to_categorical\n",
        "\n",
        "\n",
        "#new col for the genre one-hot-encodings\n",
        "data['genre_ohe'] = data['Genre']\n",
        "\n",
        "\n",
        "genreDic = {}\n",
        "for i in range(0,len(genres)):\n",
        "    genreDic[str(genres[i])] = i\n",
        "\n",
        "for i in range(0, len(data['genre_ohe'])):\n",
        "    if data['genre_ohe'][i] in genreDic.keys():\n",
        "        data['genre_ohe'][i] = genreDic[data['genre_ohe'][i]]\n",
        "\n",
        "\n",
        "data['genre_ohe'] = list(to_categorical(list(data['genre_ohe'])))"
      ],
      "execution_count": null,
      "outputs": [
        {
          "output_type": "stream",
          "text": [
            "/usr/local/lib/python3.7/dist-packages/ipykernel_launcher.py:15: SettingWithCopyWarning: \n",
            "A value is trying to be set on a copy of a slice from a DataFrame\n",
            "\n",
            "See the caveats in the documentation: https://pandas.pydata.org/pandas-docs/stable/user_guide/indexing.html#returning-a-view-versus-a-copy\n",
            "  from ipykernel import kernelapp as app\n"
          ],
          "name": "stderr"
        }
      ]
    },
    {
      "cell_type": "code",
      "metadata": {
        "colab": {
          "base_uri": "https://localhost:8080/"
        },
        "id": "pDYO5v12RjNL",
        "outputId": "c7f446c8-372d-44a8-e1a7-8b47b21e1f2c"
      },
      "source": [
        "genreDic"
      ],
      "execution_count": null,
      "outputs": [
        {
          "output_type": "execute_result",
          "data": {
            "text/plain": [
              "{'folk': 4, 'grime': 3, 'musicals': 1, 'reggae': 2, 'soul': 0}"
            ]
          },
          "metadata": {
            "tags": []
          },
          "execution_count": 66
        }
      ]
    },
    {
      "cell_type": "markdown",
      "metadata": {
        "id": "gvt_zwfHkFBZ"
      },
      "source": [
        "Have a look at the one hot encoded labels"
      ]
    },
    {
      "cell_type": "code",
      "metadata": {
        "colab": {
          "base_uri": "https://localhost:8080/"
        },
        "id": "2erdlwJvjnuf",
        "outputId": "a35bf8f8-b0d9-4f51-9ce4-005251dffc75"
      },
      "source": [
        "data['genre_ohe']"
      ],
      "execution_count": null,
      "outputs": [
        {
          "output_type": "execute_result",
          "data": {
            "text/plain": [
              "0       [0.0, 0.0, 0.0, 0.0, 1.0]\n",
              "1       [1.0, 0.0, 0.0, 0.0, 0.0]\n",
              "2       [0.0, 0.0, 1.0, 0.0, 0.0]\n",
              "3       [0.0, 0.0, 0.0, 0.0, 1.0]\n",
              "4       [0.0, 0.0, 1.0, 0.0, 0.0]\n",
              "                  ...            \n",
              "3849    [0.0, 1.0, 0.0, 0.0, 0.0]\n",
              "3850    [0.0, 1.0, 0.0, 0.0, 0.0]\n",
              "3851    [0.0, 1.0, 0.0, 0.0, 0.0]\n",
              "3852    [0.0, 1.0, 0.0, 0.0, 0.0]\n",
              "3853    [0.0, 1.0, 0.0, 0.0, 0.0]\n",
              "Name: genre_ohe, Length: 3854, dtype: object"
            ]
          },
          "metadata": {
            "tags": []
          },
          "execution_count": 70
        }
      ]
    },
    {
      "cell_type": "markdown",
      "metadata": {
        "id": "XajMArW-4f5c"
      },
      "source": [
        "At this point, looking at the dataframe below - we have a few different forms of the same dataset which can be experimented with. \n",
        "\n",
        "lyrics_processed - The original lyrics with the only changes being the tidying of the formatting and punctuations removed.\n",
        "\n",
        "lyrics_words - this is the same data as lyrics_processed, but the words have been split into individual tokens.\n",
        "\n",
        "lyrics_words_stopwords - this is the data after the stopwords have been removed.\n",
        "\n",
        "Lyrics_lem - the stopwords column data with lemmatisation applied.\n",
        "\n",
        "Lyrics_stem - the stopwords column data with stemming applied."
      ]
    },
    {
      "cell_type": "code",
      "metadata": {
        "colab": {
          "base_uri": "https://localhost:8080/",
          "height": 753
        },
        "id": "TrOFdoyINSXq",
        "outputId": "89721945-73f6-4a93-a289-423b85c93916"
      },
      "source": [
        "data"
      ],
      "execution_count": null,
      "outputs": [
        {
          "output_type": "execute_result",
          "data": {
            "text/html": [
              "<div>\n",
              "<style scoped>\n",
              "    .dataframe tbody tr th:only-of-type {\n",
              "        vertical-align: middle;\n",
              "    }\n",
              "\n",
              "    .dataframe tbody tr th {\n",
              "        vertical-align: top;\n",
              "    }\n",
              "\n",
              "    .dataframe thead th {\n",
              "        text-align: right;\n",
              "    }\n",
              "</style>\n",
              "<table border=\"1\" class=\"dataframe\">\n",
              "  <thead>\n",
              "    <tr style=\"text-align: right;\">\n",
              "      <th></th>\n",
              "      <th>Genre</th>\n",
              "      <th>Song</th>\n",
              "      <th>Artist</th>\n",
              "      <th>Lyrics</th>\n",
              "      <th>lyrics_processed</th>\n",
              "      <th>lyrics_words</th>\n",
              "      <th>song_length</th>\n",
              "      <th>lyrics_words_stopwords</th>\n",
              "      <th>song_length_stopwords</th>\n",
              "      <th>Lyrics_Lem</th>\n",
              "      <th>Lyrics_Stem</th>\n",
              "      <th>genre_ohe</th>\n",
              "    </tr>\n",
              "  </thead>\n",
              "  <tbody>\n",
              "    <tr>\n",
              "      <th>0</th>\n",
              "      <td>folk</td>\n",
              "      <td>Hallelujah</td>\n",
              "      <td>Leonard Cohen</td>\n",
              "      <td>Now I've heard there was a secret chord\\nThat ...</td>\n",
              "      <td>now ive heard there was a secret chord\\nthat d...</td>\n",
              "      <td>[now, ive, heard, there, was, secret, chord, t...</td>\n",
              "      <td>324</td>\n",
              "      <td>[ive, heard, secret, chord, david, played, ple...</td>\n",
              "      <td>185</td>\n",
              "      <td>[ive, heard, secret, chord, david, played, ple...</td>\n",
              "      <td>[ive, heard, secret, chord, david, play, pleas...</td>\n",
              "      <td>[0.0, 0.0, 0.0, 0.0, 1.0]</td>\n",
              "    </tr>\n",
              "    <tr>\n",
              "      <th>1</th>\n",
              "      <td>soul</td>\n",
              "      <td>Too Good at Goodbyes</td>\n",
              "      <td>Sam Smith</td>\n",
              "      <td>You must think that I'm stupid\\nYou must think...</td>\n",
              "      <td>you must think that im stupid\\nyou must think ...</td>\n",
              "      <td>[you, must, think, that, im, stupid, you, must...</td>\n",
              "      <td>386</td>\n",
              "      <td>[must, think, im, stupid, must, think, im, foo...</td>\n",
              "      <td>213</td>\n",
              "      <td>[must, think, im, stupid, must, think, im, foo...</td>\n",
              "      <td>[must, think, im, stupid, must, think, im, foo...</td>\n",
              "      <td>[1.0, 0.0, 0.0, 0.0, 0.0]</td>\n",
              "    </tr>\n",
              "    <tr>\n",
              "      <th>2</th>\n",
              "      <td>reggae</td>\n",
              "      <td>Work</td>\n",
              "      <td>Rihanna</td>\n",
              "      <td>Work, work, work, work, work, work\\nHe said me...</td>\n",
              "      <td>work work work work work work\\nhe said me haff...</td>\n",
              "      <td>[work, work, work, work, work, work, he, said,...</td>\n",
              "      <td>547</td>\n",
              "      <td>[work, work, work, work, work, work, said, haf...</td>\n",
              "      <td>361</td>\n",
              "      <td>[work, work, work, work, work, work, say, haff...</td>\n",
              "      <td>[work, work, work, work, work, work, said, haf...</td>\n",
              "      <td>[0.0, 0.0, 1.0, 0.0, 0.0]</td>\n",
              "    </tr>\n",
              "    <tr>\n",
              "      <th>3</th>\n",
              "      <td>folk</td>\n",
              "      <td>Revenge</td>\n",
              "      <td>XXXTENTACION</td>\n",
              "      <td>I think I, I think I finally\\nFound a way to f...</td>\n",
              "      <td>i think i i think i finally\\nfound a way to fo...</td>\n",
              "      <td>[think, think, finally, found, way, to, forgiv...</td>\n",
              "      <td>227</td>\n",
              "      <td>[think, think, finally, found, way, forgive, m...</td>\n",
              "      <td>140</td>\n",
              "      <td>[think, think, finally, found, way, forgive, m...</td>\n",
              "      <td>[think, think, final, found, way, forgiv, mist...</td>\n",
              "      <td>[0.0, 0.0, 0.0, 0.0, 1.0]</td>\n",
              "    </tr>\n",
              "    <tr>\n",
              "      <th>4</th>\n",
              "      <td>reggae</td>\n",
              "      <td>Side To Side</td>\n",
              "      <td>Ariana Grande</td>\n",
              "      <td>I've been here all night (Ariana)\\nI've been h...</td>\n",
              "      <td>ive been here all night ariana\\nive been here ...</td>\n",
              "      <td>[ive, been, here, all, night, ariana, ive, bee...</td>\n",
              "      <td>500</td>\n",
              "      <td>[ive, night, ariana, ive, day, nicki, minaj, b...</td>\n",
              "      <td>296</td>\n",
              "      <td>[ive, night, ariana, ive, day, nicki, minaj, b...</td>\n",
              "      <td>[ive, night, ariana, ive, day, nicki, minaj, b...</td>\n",
              "      <td>[0.0, 0.0, 1.0, 0.0, 0.0]</td>\n",
              "    </tr>\n",
              "    <tr>\n",
              "      <th>...</th>\n",
              "      <td>...</td>\n",
              "      <td>...</td>\n",
              "      <td>...</td>\n",
              "      <td>...</td>\n",
              "      <td>...</td>\n",
              "      <td>...</td>\n",
              "      <td>...</td>\n",
              "      <td>...</td>\n",
              "      <td>...</td>\n",
              "      <td>...</td>\n",
              "      <td>...</td>\n",
              "      <td>...</td>\n",
              "    </tr>\n",
              "    <tr>\n",
              "      <th>3849</th>\n",
              "      <td>musicals</td>\n",
              "      <td>Wait for Me (”If you wanna walk out of hell......</td>\n",
              "      <td>André De Shields, Reeve Carney, Eva Noblezada,...</td>\n",
              "      <td>What is it?\\nWell, the good news is, he said t...</td>\n",
              "      <td>what is it\\nwell the good news is he said that...</td>\n",
              "      <td>[what, is, it, well, the, good, news, is, he, ...</td>\n",
              "      <td>175</td>\n",
              "      <td>[well, good, news, said, go, theres, bad, news...</td>\n",
              "      <td>72</td>\n",
              "      <td>[well, good, news, say, go, there, bad, news, ...</td>\n",
              "      <td>[well, good, news, said, go, there, bad, news,...</td>\n",
              "      <td>[0.0, 1.0, 0.0, 0.0, 0.0]</td>\n",
              "    </tr>\n",
              "    <tr>\n",
              "      <th>3850</th>\n",
              "      <td>musicals</td>\n",
              "      <td>Who I'd Be</td>\n",
              "      <td>Brian D'Arcy James</td>\n",
              "      <td>I guess I'd be a hero, with sword and armor cl...</td>\n",
              "      <td>i guess id be a hero with sword and armor clas...</td>\n",
              "      <td>[guess, id, be, hero, with, sword, and, armor,...</td>\n",
              "      <td>360</td>\n",
              "      <td>[guess, id, hero, sword, armor, clashing, look...</td>\n",
              "      <td>222</td>\n",
              "      <td>[guess, id, hero, sword, armor, clash, look, s...</td>\n",
              "      <td>[guess, id, hero, sword, armor, clash, look, s...</td>\n",
              "      <td>[0.0, 1.0, 0.0, 0.0, 0.0]</td>\n",
              "    </tr>\n",
              "    <tr>\n",
              "      <th>3851</th>\n",
              "      <td>musicals</td>\n",
              "      <td>Killer Quest</td>\n",
              "      <td>Original Cast of The Lightning Thief Musical</td>\n",
              "      <td>(Spoken)\\nMy mom's gone.\\n(Spoken)\\nFrom this ...</td>\n",
              "      <td>spoken\\nmy moms gone\\nspoken\\nfrom this world ...</td>\n",
              "      <td>[spoken, my, moms, gone, spoken, from, this, w...</td>\n",
              "      <td>393</td>\n",
              "      <td>[spoken, moms, gone, spoken, world, shes, anyw...</td>\n",
              "      <td>242</td>\n",
              "      <td>[spoken, mom, go, spoken, world, shes, anywher...</td>\n",
              "      <td>[spoken, mom, gone, spoken, world, she, anywhe...</td>\n",
              "      <td>[0.0, 1.0, 0.0, 0.0, 0.0]</td>\n",
              "    </tr>\n",
              "    <tr>\n",
              "      <th>3852</th>\n",
              "      <td>musicals</td>\n",
              "      <td>Sudden Changes/ Feed Me (Git it)</td>\n",
              "      <td>Alan Menken</td>\n",
              "      <td>Sudden changes surround me\\nLady Luck came and...</td>\n",
              "      <td>sudden changes surround me\\nlady luck came and...</td>\n",
              "      <td>[sudden, changes, surround, me, lady, luck, ca...</td>\n",
              "      <td>635</td>\n",
              "      <td>[sudden, changes, surround, lady, luck, came, ...</td>\n",
              "      <td>383</td>\n",
              "      <td>[sudden, change, surround, lady, luck, come, f...</td>\n",
              "      <td>[sudden, chang, surround, ladi, luck, came, fo...</td>\n",
              "      <td>[0.0, 1.0, 0.0, 0.0, 0.0]</td>\n",
              "    </tr>\n",
              "    <tr>\n",
              "      <th>3853</th>\n",
              "      <td>musicals</td>\n",
              "      <td>A Lovely Night</td>\n",
              "      <td>The Original Broadway Cast of Cinderella</td>\n",
              "      <td>A lovely night\\nA lovely night\\nA finer night ...</td>\n",
              "      <td>a lovely night\\na lovely night\\na finer night ...</td>\n",
              "      <td>[lovely, night, lovely, night, finer, night, y...</td>\n",
              "      <td>208</td>\n",
              "      <td>[lovely, night, lovely, night, finer, night, k...</td>\n",
              "      <td>122</td>\n",
              "      <td>[lovely, night, lovely, night, finer, night, k...</td>\n",
              "      <td>[love, night, love, night, finer, night, know,...</td>\n",
              "      <td>[0.0, 1.0, 0.0, 0.0, 0.0]</td>\n",
              "    </tr>\n",
              "  </tbody>\n",
              "</table>\n",
              "<p>3854 rows × 12 columns</p>\n",
              "</div>"
            ],
            "text/plain": [
              "         Genre  ...                  genre_ohe\n",
              "0         folk  ...  [0.0, 0.0, 0.0, 0.0, 1.0]\n",
              "1         soul  ...  [1.0, 0.0, 0.0, 0.0, 0.0]\n",
              "2       reggae  ...  [0.0, 0.0, 1.0, 0.0, 0.0]\n",
              "3         folk  ...  [0.0, 0.0, 0.0, 0.0, 1.0]\n",
              "4       reggae  ...  [0.0, 0.0, 1.0, 0.0, 0.0]\n",
              "...        ...  ...                        ...\n",
              "3849  musicals  ...  [0.0, 1.0, 0.0, 0.0, 0.0]\n",
              "3850  musicals  ...  [0.0, 1.0, 0.0, 0.0, 0.0]\n",
              "3851  musicals  ...  [0.0, 1.0, 0.0, 0.0, 0.0]\n",
              "3852  musicals  ...  [0.0, 1.0, 0.0, 0.0, 0.0]\n",
              "3853  musicals  ...  [0.0, 1.0, 0.0, 0.0, 0.0]\n",
              "\n",
              "[3854 rows x 12 columns]"
            ]
          },
          "metadata": {
            "tags": []
          },
          "execution_count": 69
        }
      ]
    },
    {
      "cell_type": "markdown",
      "metadata": {
        "id": "y-b5RCfBhgF4"
      },
      "source": [
        "Now that the major data pre-processing has been completed - it's time to fit model tokenisers on the data and split it up into training and testing sets so we can train and evaluate models.\n",
        "\n",
        "For the tokenisation, I will be using the keras-preprocessing tokeniser."
      ]
    },
    {
      "cell_type": "markdown",
      "metadata": {
        "id": "hZwH8gj6Nmq6"
      },
      "source": [
        "A function which takes a dataset as input and returns the X and Y training sets, as well as the testing sets."
      ]
    },
    {
      "cell_type": "code",
      "metadata": {
        "id": "6zY3QwxCjDUr"
      },
      "source": [
        "#Create the testing / training split function, which we can call later on, for each type of data, which will return all the required varaibles for training.\n",
        "\n",
        "def createSplits(lyrics, labels, sequence_length, pad='post', data_split=0.8):\n",
        "  import numpy as np\n",
        "  from keras.preprocessing.text import Tokenizer\n",
        "  from keras.preprocessing import sequence\n",
        "  from sklearn.utils import shuffle\n",
        "\n",
        "  \n",
        "  tokenizer = Tokenizer()\n",
        "\n",
        "  tokenizer.fit_on_texts(lyrics)\n",
        "\n",
        "  sequences = tokenizer.texts_to_sequences(lyrics)\n",
        "\n",
        "  training_x = np.asarray(sequence.pad_sequences(sequences, maxlen=sequence_length, padding=pad))\n",
        "  training_y = np.asarray(labels)\n",
        "\n",
        "  max_token = max(itertools.chain(*training_x))\n",
        "  \n",
        "  training_x, training_y = shuffle(training_x, training_y)\n",
        "\n",
        "  split = round(len(training_x)*data_split)\n",
        "\n",
        "  x_train = training_x[:split]\n",
        "  y_train = training_y[:split]\n",
        "\n",
        "  x_test = training_x[split:]\n",
        "  y_test = training_y[split:]\n",
        "\n",
        "  return [[x_train, y_train], [x_test, y_test], max_token]"
      ],
      "execution_count": null,
      "outputs": []
    },
    {
      "cell_type": "markdown",
      "metadata": {
        "id": "SQeY18RG5YZ3"
      },
      "source": [
        "It's now time to define some models which we will train and compare.\n",
        "\n",
        "For this project, I'm going to be using the follow models:\n",
        "\n",
        "- Bi-Directional LSTM\n",
        "- Standard LSTM\n",
        "- Convolutional Neural Networl\n",
        "- A hybrid which contains Convolutional Layers as well as LSTM."
      ]
    },
    {
      "cell_type": "markdown",
      "metadata": {
        "id": "un_PaOXx5r8Y"
      },
      "source": [
        "Define the Bi-Directional LSTM"
      ]
    },
    {
      "cell_type": "code",
      "metadata": {
        "id": "g37BiQSPP12f"
      },
      "source": [
        "def biLSTM(max_token, x, y, optimiser, num_epochs, batch, sequence_length):\n",
        "  import numpy as np\n",
        "  from tensorflow import keras\n",
        "  from tensorflow.keras import layers\n",
        "\n",
        "  training_x = np.asarray(x)\n",
        "  training_y = np.asarray(y)\n",
        "\n",
        "  print(f'\\n\\n TRAINING BIDIRECTIONAL-LSTM MODEL \\n\\n')\n",
        "\n",
        "\n",
        "  inputs = keras.Input(shape=(sequence_length,))\n",
        "  x = layers.Embedding(max_token + 1, 50)(inputs)\n",
        "  x = layers.Bidirectional(layers.LSTM(50, dropout=0.2))(x)\n",
        "  outputs = layers.Dense(5, activation=\"softmax\")(x)\n",
        "  model_bi = keras.Model(inputs, outputs)\n",
        "\n",
        "\n",
        "  model_bi.summary()\n",
        "\n",
        "\n",
        "  model_bi.compile(loss='categorical_crossentropy',\n",
        "                optimizer=optimiser,\n",
        "                metrics=['accuracy'])\n",
        "\n",
        "  # Train Model\n",
        "  model_bi.fit(training_x, training_y, batch_size=batch, epochs=num_epochs)\n",
        "\n",
        "  return model_bi"
      ],
      "execution_count": null,
      "outputs": []
    },
    {
      "cell_type": "markdown",
      "metadata": {
        "id": "SvfzSSJz5us_"
      },
      "source": [
        "Define the LSTM"
      ]
    },
    {
      "cell_type": "code",
      "metadata": {
        "id": "UHlFr0VWm2V8"
      },
      "source": [
        "def LSTM_MODEL(max_token, x, y, optimiser, num_epochs, batch, sequence_length):\n",
        "  from keras.models import Sequential\n",
        "  from keras.layers import Embedding, LSTM, Dense\n",
        "\n",
        "  training_x = np.asarray(x)\n",
        "  training_y = np.asarray(y)\n",
        "\n",
        "  print(f'\\n\\n TRAINING LSTM MODEL \\n\\n')\n",
        "\n",
        "  lstm_model = Sequential()\n",
        "  lstm_model.add(Embedding(max_token + 1, 10, input_length=sequence_length))\n",
        "  lstm_model.add(LSTM(50))\n",
        "  lstm_model.add(Dense(5, activation='softmax'))\n",
        "\n",
        "  lstm_model.compile(loss='categorical_crossentropy',\n",
        "                optimizer=optimiser,\n",
        "                metrics=['accuracy'])\n",
        "\n",
        "  lstm_model.fit(training_x, training_y,\n",
        "            batch_size=batch,\n",
        "            epochs=num_epochs)\n",
        "  \n",
        "  return lstm_model"
      ],
      "execution_count": null,
      "outputs": []
    },
    {
      "cell_type": "markdown",
      "metadata": {
        "id": "qUQKDGCE5wb2"
      },
      "source": [
        "Define the CNN"
      ]
    },
    {
      "cell_type": "code",
      "metadata": {
        "id": "TkWOF7OJnb0L"
      },
      "source": [
        "def CNN(max_token, x, y, optimiser, num_epochs, batch, sequence_length, act):\n",
        "\n",
        "  from keras.models import Model\n",
        "  from keras.models import Sequential\n",
        "  from keras.layers import Dense, Conv1D, MaxPooling1D, Dropout, Flatten, Activation, Embedding\n",
        "\n",
        "  training_x = np.asarray(x)\n",
        "  training_y = np.asarray(y)\n",
        "\n",
        "  print(f'\\n\\n TRAINING CNN MODEL \\n\\n')\n",
        "\n",
        "  cnn_model = Sequential()\n",
        "  cnn_model.add(Embedding(max_token + 1, 200, input_length=sequence_length))\n",
        "  cnn_model.add(Conv1D(filters=32, kernel_size=3, activation='relu'))\n",
        "  cnn_model.add(Dropout(0.5))\n",
        "  cnn_model.add(Conv1D(filters=64, kernel_size=3, activation='relu'))\n",
        "  cnn_model.add(Dropout(0.5))\n",
        "  cnn_model.add(Flatten())\n",
        "  cnn_model.add(Dense(50, activation='relu'))\n",
        "  cnn_model.add(Dropout(0.5))\n",
        "  cnn_model.add(Dense(5, activation=act))\n",
        "\n",
        "  cnn_model.compile(loss='categorical_crossentropy', \n",
        "                optimizer=optimiser, metrics=['accuracy'])\n",
        "  \n",
        "  cnn_model.fit(training_x, training_y, batch_size = batch, epochs = num_epochs)\n",
        "\n",
        "  return cnn_model"
      ],
      "execution_count": null,
      "outputs": []
    },
    {
      "cell_type": "markdown",
      "metadata": {
        "id": "17oJI1z75xjO"
      },
      "source": [
        "Define the hybrid, CNN/LSTM merged model."
      ]
    },
    {
      "cell_type": "code",
      "metadata": {
        "id": "-R_06AeckkDg"
      },
      "source": [
        "def mergedLSTMCNN(max_token, x, y, optimiser, num_epochs, batch, sequence_length):\n",
        "  from keras.models import Model\n",
        "  from keras.models import Sequential\n",
        "  from keras.layers import Dense, Conv1D, MaxPooling1D, Dropout, Flatten, Activation, Embedding, LSTM\n",
        "\n",
        "  training_x = np.asarray(x)\n",
        "  training_y = np.asarray(y)\n",
        "\n",
        "  print(f'\\n\\n TRAINING MIXEL MODEL \\n\\n')\n",
        "\n",
        "  model = Sequential()\n",
        "  model.add(Embedding(max_token+1, 32, input_length=sequence_length))\n",
        "  model.add(Conv1D(filters=32, kernel_size=3, padding='same', activation='relu'))\n",
        "  model.add(Dropout(0.2))\n",
        "  model.add(MaxPooling1D(pool_size=2))\n",
        "  model.add(LSTM(100))\n",
        "  model.add(Dropout(0.2))\n",
        "  model.add(Dense(5, activation='sigmoid'))\n",
        "  model.compile(loss='categorical_crossentropy', optimizer=optimiser, metrics=['accuracy'])\n",
        "  print(model.summary())\n",
        "  model.fit(training_x, training_y, epochs=num_epochs, batch_size=batch)\n",
        "\n",
        "  return model"
      ],
      "execution_count": null,
      "outputs": []
    },
    {
      "cell_type": "markdown",
      "metadata": {
        "id": "C0_Khqla54cm"
      },
      "source": [
        "For each of the data / model combinations, I want to be able to evaluat the results.\n",
        "\n",
        "Below is a evaluation function which takes the model, test data and class names as arguments, predicts the classes of the test data, and then calculates a confusion matrix and a classification_report which contains metrics such as Precision and Recall."
      ]
    },
    {
      "cell_type": "code",
      "metadata": {
        "id": "vFLGuob8QuWB"
      },
      "source": [
        "def evaluateModel(model, test_x, test_y, class_names):\n",
        "  import sklearn\n",
        "  from sklearn.metrics import confusion_matrix, classification_report\n",
        "  import seaborn as sn\n",
        "  import pandas as pd\n",
        "  import matplotlib.pyplot as plt\n",
        "\n",
        "  test_x = np.asarray(test_x)\n",
        "  test_y = np.asarray(test_y)\n",
        "\n",
        "  predicted_classes = np.argmax(model.predict(test_x), axis=1)\n",
        "  true_classes = [np.where(r==1)[0][0] for r in test_y]\n",
        "\n",
        "  correctly_classified = 0\n",
        "  for i in range (0, len(predicted_classes)):\n",
        "      if predicted_classes[i] == true_classes[i]:\n",
        "          correctly_classified += 1\n",
        "\n",
        "  accuracy = correctly_classified / len(true_classes)\n",
        "\n",
        "  print(f'Model accuracy on test data: {accuracy} \\n\\n')\n",
        "\n",
        "  prediction_report = classification_report(predicted_classes, true_classes, target_names=class_names)\n",
        "\n",
        "  print(f'Classification Report: \\n {prediction_report} \\n\\n')\n",
        "\n",
        "  conf = sklearn.metrics.confusion_matrix(predicted_classes, true_classes)\n",
        "\n",
        "  df_cm = pd.DataFrame(conf, index = [i for i in class_names], columns = [i for i in class_names])\n",
        "  sn.set(font_scale=1.4) # for label size\n",
        "  ax = sn.heatmap(df_cm, cmap='Oranges', annot=True, fmt='g')\n",
        "\n",
        "  print(ax)\n",
        "\n",
        "  return prediction_report, conf"
      ],
      "execution_count": null,
      "outputs": []
    },
    {
      "cell_type": "markdown",
      "metadata": {
        "id": "PoSxMeI56LD-"
      },
      "source": [
        "Below are methods implemented to automate the whole process of training the models on each of the different data columns in the frame.\n",
        "\n",
        "Automating this and storing the results in numpy arrays means that laborious code for training and evaluating every combination doesn't need to be done manually."
      ]
    },
    {
      "cell_type": "code",
      "metadata": {
        "id": "auuHzEgTqp4-",
        "colab": {
          "base_uri": "https://localhost:8080/"
        },
        "outputId": "b8253fa3-ba26-44d1-a1da-585ad5671fd7"
      },
      "source": [
        "#I need to prind the genre dictionary so I can look at the indexes for each genre\n",
        "#This is important for the evaluation function - I need to pass in a list with the genres in the right order\n",
        "#so that the confusion matrix is accurate.\n",
        "genreDic"
      ],
      "execution_count": null,
      "outputs": [
        {
          "output_type": "execute_result",
          "data": {
            "text/plain": [
              "{'folk': 4, 'grime': 3, 'musicals': 1, 'reggae': 2, 'soul': 0}"
            ]
          },
          "metadata": {
            "tags": []
          },
          "execution_count": 77
        }
      ]
    },
    {
      "cell_type": "markdown",
      "metadata": {
        "id": "fCH7owvE6yks"
      },
      "source": [
        "Below are dictionaries which contain each of the data columns and each of the models."
      ]
    },
    {
      "cell_type": "code",
      "metadata": {
        "id": "Dk6AeHBfkmdE"
      },
      "source": [
        "genres = [\"soul\", \"musicals\", \"reggae\", \"grime\", \"folk\"]\n",
        "data_tests = {\"processed\": data.lyrics_processed, \"words\": data.lyrics_words, \"stopwords\": data.lyrics_words_stopwords, \"Stemmed\": data.Lyrics_Stem, \"Lemmatised\": data.Lyrics_Lem}\n",
        "\n",
        "#All models commented out to allow for further CNN only testing.\n",
        "\n",
        "#model_tests = {\"BiDirectionalLSTM\": biLSTM, \"normalLSTM\": LSTM_MODEL, \"CNN\": CNN, \"Merged LSTM + CNN\": mergedLSTMCNN}\n",
        "\n",
        "model_tests = {\"CNN\": CNN}"
      ],
      "execution_count": null,
      "outputs": []
    },
    {
      "cell_type": "markdown",
      "metadata": {
        "id": "EjmIiqFW67CX"
      },
      "source": [
        "The loop below iterates over each of the data columns, and trained and evaluates each of the models on each one, and then stores the results in an additional dictionary so the results can be saves and observed.\n",
        "\n",
        "This can take well over an hour to run"
      ]
    },
    {
      "cell_type": "code",
      "metadata": {
        "id": "N-ooEOjqhKy7",
        "colab": {
          "base_uri": "https://localhost:8080/",
          "height": 1000
        },
        "outputId": "b6443ba8-ad93-46df-93e1-6b414b3b4991"
      },
      "source": [
        "models = {}\n",
        "evaluations = {}\n",
        "confusion_matri = {}\n",
        "\n",
        "for i in data_tests:\n",
        "  for mod in model_tests:\n",
        "    for act in ['softmax', 'sigmoid']:\n",
        "      train, test, max_voc = createSplits(data_tests[i].tolist(), data.genre_ohe.tolist(), 500)\n",
        "      model = model_tests[mod](max_voc, train[0], train[1], 'adam', 10, 64, 500, act)\n",
        "      eval, conf = evaluateModel(model, test[0], test[1], genres)\n",
        "      models[str(i) + \"-\" + str(mod)] = model\n",
        "      evaluations[str(i) + \"-\" + str(mod)+ \"-\" + str(act)] = eval\n",
        "      confusion_matri[str(i) + \"-\" + str(mod)+ \"-\" + str(act)] = conf\n"
      ],
      "execution_count": null,
      "outputs": [
        {
          "output_type": "stream",
          "text": [
            "\n",
            "\n",
            " TRAINING CNN MODEL \n",
            "\n",
            "\n",
            "Epoch 1/10\n",
            "49/49 [==============================] - 8s 156ms/step - loss: 1.5406 - accuracy: 0.2768\n",
            "Epoch 2/10\n",
            "49/49 [==============================] - 8s 154ms/step - loss: 1.4219 - accuracy: 0.3406\n",
            "Epoch 3/10\n",
            "49/49 [==============================] - 8s 154ms/step - loss: 1.2201 - accuracy: 0.4419\n",
            "Epoch 4/10\n",
            "49/49 [==============================] - 8s 157ms/step - loss: 0.9086 - accuracy: 0.6195\n",
            "Epoch 5/10\n",
            "49/49 [==============================] - 8s 156ms/step - loss: 0.6338 - accuracy: 0.7484\n",
            "Epoch 6/10\n",
            "49/49 [==============================] - 8s 156ms/step - loss: 0.4590 - accuracy: 0.8250\n",
            "Epoch 7/10\n",
            "49/49 [==============================] - 8s 153ms/step - loss: 0.3406 - accuracy: 0.8805\n",
            "Epoch 8/10\n",
            "49/49 [==============================] - 8s 157ms/step - loss: 0.2556 - accuracy: 0.9061\n",
            "Epoch 9/10\n",
            "49/49 [==============================] - 8s 156ms/step - loss: 0.1765 - accuracy: 0.9271\n",
            "Epoch 10/10\n",
            "49/49 [==============================] - 8s 156ms/step - loss: 0.1671 - accuracy: 0.9346\n",
            "Model accuracy on test data: 0.6575875486381323 \n",
            "\n",
            "\n",
            "Classification Report: \n",
            "               precision    recall  f1-score   support\n",
            "\n",
            "        soul       0.70      0.61      0.65       206\n",
            "    musicals       0.66      0.66      0.66       192\n",
            "      reggae       0.56      0.75      0.64       110\n",
            "       grime       0.80      0.91      0.85        78\n",
            "        folk       0.62      0.56      0.59       185\n",
            "\n",
            "    accuracy                           0.66       771\n",
            "   macro avg       0.67      0.70      0.68       771\n",
            "weighted avg       0.66      0.66      0.66       771\n",
            " \n",
            "\n",
            "\n",
            "AxesSubplot(0.125,0.125;0.62x0.755)\n",
            "\n",
            "\n",
            " TRAINING CNN MODEL \n",
            "\n",
            "\n",
            "Epoch 1/10\n",
            "49/49 [==============================] - 8s 155ms/step - loss: 1.5482 - accuracy: 0.2521\n",
            "Epoch 2/10\n",
            "49/49 [==============================] - 8s 154ms/step - loss: 1.3894 - accuracy: 0.3600\n",
            "Epoch 3/10\n",
            "49/49 [==============================] - 8s 155ms/step - loss: 1.1938 - accuracy: 0.4450\n",
            "Epoch 4/10\n",
            "49/49 [==============================] - 7s 149ms/step - loss: 0.9944 - accuracy: 0.5667\n",
            "Epoch 5/10\n",
            "49/49 [==============================] - 7s 152ms/step - loss: 0.7624 - accuracy: 0.6700\n",
            "Epoch 6/10\n",
            "49/49 [==============================] - 7s 149ms/step - loss: 0.6887 - accuracy: 0.7174\n",
            "Epoch 7/10\n",
            "49/49 [==============================] - 7s 153ms/step - loss: 0.4824 - accuracy: 0.7984\n",
            "Epoch 8/10\n",
            "49/49 [==============================] - 7s 152ms/step - loss: 0.3883 - accuracy: 0.8477\n",
            "Epoch 9/10\n",
            "49/49 [==============================] - 7s 153ms/step - loss: 0.3430 - accuracy: 0.8499\n",
            "Epoch 10/10\n",
            "49/49 [==============================] - 7s 151ms/step - loss: 0.2688 - accuracy: 0.8890\n",
            "Model accuracy on test data: 0.5953307392996109 \n",
            "\n",
            "\n",
            "Classification Report: \n",
            "               precision    recall  f1-score   support\n",
            "\n",
            "        soul       0.51      0.59      0.55       153\n",
            "    musicals       0.76      0.63      0.69       234\n",
            "      reggae       0.58      0.52      0.55       150\n",
            "       grime       0.51      0.92      0.66        51\n",
            "        folk       0.56      0.52      0.54       183\n",
            "\n",
            "    accuracy                           0.60       771\n",
            "   macro avg       0.58      0.64      0.60       771\n",
            "weighted avg       0.61      0.60      0.60       771\n",
            " \n",
            "\n",
            "\n",
            "AxesSubplot(0.125,0.125;0.496x0.755)\n",
            "\n",
            "\n",
            " TRAINING CNN MODEL \n",
            "\n",
            "\n",
            "Epoch 1/10\n",
            "49/49 [==============================] - 9s 148ms/step - loss: 1.5515 - accuracy: 0.2606\n",
            "Epoch 2/10\n",
            "49/49 [==============================] - 7s 144ms/step - loss: 1.4559 - accuracy: 0.3261\n",
            "Epoch 3/10\n",
            "49/49 [==============================] - 7s 145ms/step - loss: 1.2515 - accuracy: 0.4346\n",
            "Epoch 4/10\n",
            "49/49 [==============================] - 7s 147ms/step - loss: 0.9015 - accuracy: 0.6191\n",
            "Epoch 5/10\n",
            "49/49 [==============================] - 7s 146ms/step - loss: 0.6607 - accuracy: 0.7172\n",
            "Epoch 6/10\n",
            "49/49 [==============================] - 7s 145ms/step - loss: 0.4681 - accuracy: 0.8068\n",
            "Epoch 7/10\n",
            "49/49 [==============================] - 7s 146ms/step - loss: 0.3329 - accuracy: 0.8800\n",
            "Epoch 8/10\n",
            "49/49 [==============================] - 7s 146ms/step - loss: 0.2439 - accuracy: 0.9044\n",
            "Epoch 9/10\n",
            "49/49 [==============================] - 7s 146ms/step - loss: 0.2160 - accuracy: 0.9175\n",
            "Epoch 10/10\n",
            "49/49 [==============================] - 7s 144ms/step - loss: 0.1623 - accuracy: 0.9378\n",
            "Model accuracy on test data: 0.6575875486381323 \n",
            "\n",
            "\n",
            "Classification Report: \n",
            "               precision    recall  f1-score   support\n",
            "\n",
            "        soul       0.56      0.62      0.59       159\n",
            "    musicals       0.71      0.70      0.70       188\n",
            "      reggae       0.63      0.65      0.64       132\n",
            "       grime       0.92      0.85      0.88        99\n",
            "        folk       0.59      0.55      0.57       193\n",
            "\n",
            "    accuracy                           0.66       771\n",
            "   macro avg       0.68      0.67      0.68       771\n",
            "weighted avg       0.66      0.66      0.66       771\n",
            " \n",
            "\n",
            "\n",
            "AxesSubplot(0.125,0.125;0.3968x0.755)\n",
            "\n",
            "\n",
            " TRAINING CNN MODEL \n",
            "\n",
            "\n",
            "Epoch 1/10\n",
            "49/49 [==============================] - 8s 147ms/step - loss: 1.5411 - accuracy: 0.2695\n",
            "Epoch 2/10\n",
            "49/49 [==============================] - 7s 145ms/step - loss: 1.4300 - accuracy: 0.3381\n",
            "Epoch 3/10\n",
            "49/49 [==============================] - 7s 144ms/step - loss: 1.1606 - accuracy: 0.4745\n",
            "Epoch 4/10\n",
            "49/49 [==============================] - 7s 143ms/step - loss: 0.9581 - accuracy: 0.5541\n",
            "Epoch 5/10\n",
            "49/49 [==============================] - 7s 147ms/step - loss: 0.7215 - accuracy: 0.7073\n",
            "Epoch 6/10\n",
            "49/49 [==============================] - 7s 144ms/step - loss: 0.5407 - accuracy: 0.7804\n",
            "Epoch 7/10\n",
            "49/49 [==============================] - 7s 144ms/step - loss: 0.4237 - accuracy: 0.8418\n",
            "Epoch 8/10\n",
            "49/49 [==============================] - 7s 142ms/step - loss: 0.3019 - accuracy: 0.8842\n",
            "Epoch 9/10\n",
            "49/49 [==============================] - 7s 147ms/step - loss: 0.2534 - accuracy: 0.9007\n",
            "Epoch 10/10\n",
            "49/49 [==============================] - 7s 145ms/step - loss: 0.2013 - accuracy: 0.9173\n",
            "Model accuracy on test data: 0.6303501945525292 \n",
            "\n",
            "\n",
            "Classification Report: \n",
            "               precision    recall  f1-score   support\n",
            "\n",
            "        soul       0.54      0.55      0.54       185\n",
            "    musicals       0.74      0.65      0.69       212\n",
            "      reggae       0.63      0.60      0.61       144\n",
            "       grime       0.85      0.86      0.86       103\n",
            "        folk       0.47      0.57      0.51       127\n",
            "\n",
            "    accuracy                           0.63       771\n",
            "   macro avg       0.64      0.65      0.64       771\n",
            "weighted avg       0.64      0.63      0.63       771\n",
            " \n",
            "\n",
            "\n",
            "AxesSubplot(0.125,0.125;0.31744x0.755)\n",
            "\n",
            "\n",
            " TRAINING CNN MODEL \n",
            "\n",
            "\n",
            "Epoch 1/10\n",
            "49/49 [==============================] - 8s 149ms/step - loss: 1.5432 - accuracy: 0.2693\n",
            "Epoch 2/10\n",
            "49/49 [==============================] - 7s 148ms/step - loss: 1.3855 - accuracy: 0.3647\n",
            "Epoch 3/10\n",
            "49/49 [==============================] - 7s 150ms/step - loss: 1.2417 - accuracy: 0.4361\n",
            "Epoch 4/10\n",
            "49/49 [==============================] - 7s 147ms/step - loss: 1.0386 - accuracy: 0.5788\n",
            "Epoch 5/10\n",
            "49/49 [==============================] - 7s 146ms/step - loss: 0.7998 - accuracy: 0.6560\n",
            "Epoch 6/10\n",
            "49/49 [==============================] - 7s 145ms/step - loss: 0.5660 - accuracy: 0.7828\n",
            "Epoch 7/10\n",
            "49/49 [==============================] - 7s 146ms/step - loss: 0.4490 - accuracy: 0.8236\n",
            "Epoch 8/10\n",
            "49/49 [==============================] - 7s 147ms/step - loss: 0.3356 - accuracy: 0.8727\n",
            "Epoch 9/10\n",
            "49/49 [==============================] - 7s 147ms/step - loss: 0.2642 - accuracy: 0.9073\n",
            "Epoch 10/10\n",
            "49/49 [==============================] - 7s 146ms/step - loss: 0.2481 - accuracy: 0.8979\n",
            "Model accuracy on test data: 0.5706874189364461 \n",
            "\n",
            "\n",
            "Classification Report: \n",
            "               precision    recall  f1-score   support\n",
            "\n",
            "        soul       0.53      0.51      0.52       183\n",
            "    musicals       0.58      0.50      0.54       205\n",
            "      reggae       0.60      0.63      0.62       139\n",
            "       grime       0.83      0.81      0.82        93\n",
            "        folk       0.45      0.53      0.49       151\n",
            "\n",
            "    accuracy                           0.57       771\n",
            "   macro avg       0.60      0.60      0.60       771\n",
            "weighted avg       0.58      0.57      0.57       771\n",
            " \n",
            "\n",
            "\n",
            "AxesSubplot(0.125,0.125;0.253952x0.755)\n",
            "\n",
            "\n",
            " TRAINING CNN MODEL \n",
            "\n",
            "\n",
            "Epoch 1/10\n",
            "49/49 [==============================] - 8s 146ms/step - loss: 1.5579 - accuracy: 0.2498\n",
            "Epoch 2/10\n",
            "49/49 [==============================] - 7s 147ms/step - loss: 1.3779 - accuracy: 0.3494\n",
            "Epoch 3/10\n",
            "49/49 [==============================] - 7s 148ms/step - loss: 1.2189 - accuracy: 0.4411\n",
            "Epoch 4/10\n",
            "49/49 [==============================] - 7s 146ms/step - loss: 1.0329 - accuracy: 0.5406\n",
            "Epoch 5/10\n",
            "49/49 [==============================] - 7s 148ms/step - loss: 0.8354 - accuracy: 0.6365\n",
            "Epoch 6/10\n",
            "49/49 [==============================] - 7s 148ms/step - loss: 0.6453 - accuracy: 0.7280\n",
            "Epoch 7/10\n",
            "49/49 [==============================] - 7s 145ms/step - loss: 0.5335 - accuracy: 0.7860\n",
            "Epoch 8/10\n",
            "49/49 [==============================] - 7s 146ms/step - loss: 0.4664 - accuracy: 0.8001\n",
            "Epoch 9/10\n",
            "49/49 [==============================] - 7s 148ms/step - loss: 0.4046 - accuracy: 0.8342\n",
            "Epoch 10/10\n",
            "49/49 [==============================] - 7s 146ms/step - loss: 0.3452 - accuracy: 0.8616\n",
            "Model accuracy on test data: 0.5214007782101168 \n",
            "\n",
            "\n",
            "Classification Report: \n",
            "               precision    recall  f1-score   support\n",
            "\n",
            "        soul       0.68      0.37      0.48       332\n",
            "    musicals       0.68      0.68      0.68       176\n",
            "      reggae       0.46      0.69      0.55        87\n",
            "       grime       0.08      0.62      0.14        13\n",
            "        folk       0.51      0.56      0.53       163\n",
            "\n",
            "    accuracy                           0.52       771\n",
            "   macro avg       0.48      0.58      0.48       771\n",
            "weighted avg       0.61      0.52      0.54       771\n",
            " \n",
            "\n",
            "\n",
            "AxesSubplot(0.125,0.125;0.203162x0.755)\n",
            "\n",
            "\n",
            " TRAINING CNN MODEL \n",
            "\n",
            "\n",
            "Epoch 1/10\n",
            "49/49 [==============================] - 7s 122ms/step - loss: 1.5347 - accuracy: 0.2616\n",
            "Epoch 2/10\n",
            "49/49 [==============================] - 6s 124ms/step - loss: 1.3721 - accuracy: 0.3520\n",
            "Epoch 3/10\n",
            "49/49 [==============================] - 6s 121ms/step - loss: 1.1693 - accuracy: 0.4745\n",
            "Epoch 4/10\n",
            "49/49 [==============================] - 6s 123ms/step - loss: 0.9715 - accuracy: 0.5728\n",
            "Epoch 5/10\n",
            "49/49 [==============================] - 6s 121ms/step - loss: 0.7517 - accuracy: 0.6870\n",
            "Epoch 6/10\n",
            "49/49 [==============================] - 6s 123ms/step - loss: 0.5798 - accuracy: 0.7582\n",
            "Epoch 7/10\n",
            "49/49 [==============================] - 6s 122ms/step - loss: 0.4476 - accuracy: 0.8158\n",
            "Epoch 8/10\n",
            "49/49 [==============================] - 6s 124ms/step - loss: 0.3255 - accuracy: 0.8835\n",
            "Epoch 9/10\n",
            "49/49 [==============================] - 6s 123ms/step - loss: 0.2827 - accuracy: 0.8955\n",
            "Epoch 10/10\n",
            "49/49 [==============================] - 6s 121ms/step - loss: 0.2438 - accuracy: 0.9183\n",
            "Model accuracy on test data: 0.6316472114137484 \n",
            "\n",
            "\n",
            "Classification Report: \n",
            "               precision    recall  f1-score   support\n",
            "\n",
            "        soul       0.56      0.56      0.56       196\n",
            "    musicals       0.63      0.71      0.67       161\n",
            "      reggae       0.69      0.55      0.61       159\n",
            "       grime       0.76      0.94      0.84        83\n",
            "        folk       0.59      0.56      0.57       172\n",
            "\n",
            "    accuracy                           0.63       771\n",
            "   macro avg       0.65      0.67      0.65       771\n",
            "weighted avg       0.63      0.63      0.63       771\n",
            " \n",
            "\n",
            "\n",
            "AxesSubplot(0.125,0.125;0.162529x0.755)\n",
            "\n",
            "\n",
            " TRAINING CNN MODEL \n",
            "\n",
            "\n",
            "Epoch 1/10\n",
            "49/49 [==============================] - 7s 127ms/step - loss: 1.5208 - accuracy: 0.2744\n",
            "Epoch 2/10\n",
            "49/49 [==============================] - 6s 125ms/step - loss: 1.3225 - accuracy: 0.3504\n",
            "Epoch 3/10\n",
            "49/49 [==============================] - 6s 126ms/step - loss: 1.1705 - accuracy: 0.4625\n",
            "Epoch 4/10\n",
            "49/49 [==============================] - 6s 124ms/step - loss: 0.9899 - accuracy: 0.5321\n",
            "Epoch 5/10\n",
            "49/49 [==============================] - 6s 125ms/step - loss: 0.8294 - accuracy: 0.6362\n",
            "Epoch 6/10\n",
            "49/49 [==============================] - 6s 125ms/step - loss: 0.6713 - accuracy: 0.7107\n",
            "Epoch 7/10\n",
            "49/49 [==============================] - 6s 126ms/step - loss: 0.5536 - accuracy: 0.7761\n",
            "Epoch 8/10\n",
            "49/49 [==============================] - 6s 127ms/step - loss: 0.4489 - accuracy: 0.8167\n",
            "Epoch 9/10\n",
            "49/49 [==============================] - 6s 125ms/step - loss: 0.4053 - accuracy: 0.8384\n",
            "Epoch 10/10\n",
            "49/49 [==============================] - 6s 125ms/step - loss: 0.3201 - accuracy: 0.8681\n",
            "Model accuracy on test data: 0.6238651102464332 \n",
            "\n",
            "\n",
            "Classification Report: \n",
            "               precision    recall  f1-score   support\n",
            "\n",
            "        soul       0.57      0.57      0.57       197\n",
            "    musicals       0.69      0.69      0.69       190\n",
            "      reggae       0.56      0.55      0.55       152\n",
            "       grime       0.80      0.80      0.80        86\n",
            "        folk       0.57      0.58      0.57       146\n",
            "\n",
            "    accuracy                           0.62       771\n",
            "   macro avg       0.64      0.64      0.64       771\n",
            "weighted avg       0.62      0.62      0.62       771\n",
            " \n",
            "\n",
            "\n",
            "AxesSubplot(0.125,0.125;0.130023x0.755)\n",
            "\n",
            "\n",
            " TRAINING CNN MODEL \n",
            "\n",
            "\n",
            "Epoch 1/10\n",
            "49/49 [==============================] - 7s 132ms/step - loss: 1.5447 - accuracy: 0.2640\n",
            "Epoch 2/10\n",
            "49/49 [==============================] - 6s 132ms/step - loss: 1.4058 - accuracy: 0.3470\n",
            "Epoch 3/10\n",
            "49/49 [==============================] - 6s 130ms/step - loss: 1.2099 - accuracy: 0.4388\n",
            "Epoch 4/10\n",
            "49/49 [==============================] - 7s 133ms/step - loss: 0.9796 - accuracy: 0.5531\n",
            "Epoch 5/10\n",
            "49/49 [==============================] - 6s 131ms/step - loss: 0.7591 - accuracy: 0.6380\n",
            "Epoch 6/10\n",
            "49/49 [==============================] - 6s 131ms/step - loss: 0.6623 - accuracy: 0.7014\n",
            "Epoch 7/10\n",
            "49/49 [==============================] - 6s 131ms/step - loss: 0.5647 - accuracy: 0.7556\n",
            "Epoch 8/10\n",
            "49/49 [==============================] - 6s 132ms/step - loss: 0.4677 - accuracy: 0.8137\n",
            "Epoch 9/10\n",
            "49/49 [==============================] - 7s 135ms/step - loss: 0.3257 - accuracy: 0.8684\n",
            "Epoch 10/10\n",
            "49/49 [==============================] - 6s 130ms/step - loss: 0.2430 - accuracy: 0.9127\n",
            "Model accuracy on test data: 0.6160830090791181 \n",
            "\n",
            "\n",
            "Classification Report: \n",
            "               precision    recall  f1-score   support\n",
            "\n",
            "        soul       0.49      0.65      0.56       148\n",
            "    musicals       0.67      0.49      0.57       237\n",
            "      reggae       0.61      0.70      0.65       124\n",
            "       grime       0.84      0.90      0.87        96\n",
            "        folk       0.57      0.54      0.55       166\n",
            "\n",
            "    accuracy                           0.62       771\n",
            "   macro avg       0.64      0.66      0.64       771\n",
            "weighted avg       0.63      0.62      0.61       771\n",
            " \n",
            "\n",
            "\n",
            "AxesSubplot(0.125,0.125;0.104019x0.755)\n",
            "\n",
            "\n",
            " TRAINING CNN MODEL \n",
            "\n",
            "\n",
            "Epoch 1/10\n",
            "49/49 [==============================] - 7s 132ms/step - loss: 1.5478 - accuracy: 0.2775\n",
            "Epoch 2/10\n",
            "49/49 [==============================] - 7s 133ms/step - loss: 1.3747 - accuracy: 0.3421\n",
            "Epoch 3/10\n",
            "49/49 [==============================] - 6s 131ms/step - loss: 1.2158 - accuracy: 0.4516\n",
            "Epoch 4/10\n",
            "49/49 [==============================] - 7s 133ms/step - loss: 1.0453 - accuracy: 0.5345\n",
            "Epoch 5/10\n",
            "49/49 [==============================] - 7s 134ms/step - loss: 0.8883 - accuracy: 0.6176\n",
            "Epoch 6/10\n",
            "49/49 [==============================] - 7s 133ms/step - loss: 0.7359 - accuracy: 0.6897\n",
            "Epoch 7/10\n",
            "49/49 [==============================] - 7s 136ms/step - loss: 0.6003 - accuracy: 0.7459\n",
            "Epoch 8/10\n",
            "49/49 [==============================] - 6s 131ms/step - loss: 0.4822 - accuracy: 0.7939\n",
            "Epoch 9/10\n",
            "49/49 [==============================] - 7s 133ms/step - loss: 0.3903 - accuracy: 0.8437\n",
            "Epoch 10/10\n",
            "49/49 [==============================] - 6s 131ms/step - loss: 0.3574 - accuracy: 0.8501\n",
            "Model accuracy on test data: 0.5006485084306096 \n",
            "\n",
            "\n",
            "Classification Report: \n",
            "               precision    recall  f1-score   support\n",
            "\n",
            "        soul       0.64      0.44      0.52       286\n",
            "    musicals       0.53      0.54      0.54       189\n",
            "      reggae       0.60      0.45      0.52       188\n",
            "       grime       0.27      0.74      0.39        27\n",
            "        folk       0.32      0.65      0.43        81\n",
            "\n",
            "    accuracy                           0.50       771\n",
            "   macro avg       0.47      0.57      0.48       771\n",
            "weighted avg       0.56      0.50      0.51       771\n",
            " \n",
            "\n",
            "\n",
            "AxesSubplot(0.125,0.125;0.083215x0.755)\n"
          ],
          "name": "stdout"
        },
        {
          "output_type": "display_data",
          "data": {
            "image/png": "[encoded data removed]",
            "text/plain": [
              "<Figure size 432x288 with 11 Axes>"
            ]
          },
          "metadata": {
            "tags": []
          }
        }
      ]
    },
    {
      "cell_type": "markdown",
      "metadata": {
        "id": "lx3-zs0a7LKK"
      },
      "source": [
        "As I don't want to have to repeat the training process each time I load up this notebook, I save all the results.\n",
        "\n",
        "These first two cells print out each of the classification reports and confusion matrixes to a txt document which is saved into google drive.\n",
        "\n",
        "These text documents can be viewed here:\n",
        "\n",
        "**[Classification Reports](https://drive.google.com/file/d/1Flxw4wao4e-qIO3mMTcaQ0fWcOTPub6y/view?usp=sharing)**\n",
        "\n",
        "**[Confusion Matrixes](https://drive.google.com/file/d/1-1Pj6zZQPRS0PSDQ5BuLEqDNelQ_DH0n/view?usp=sharing)**\n",
        "\n",
        "The output results above a from additional testing of the CNN model with different activation functions and parameters - more information about this below."
      ]
    },
    {
      "cell_type": "code",
      "metadata": {
        "id": "lP65mIQF6ktJ"
      },
      "source": [
        "import sys\n",
        "\n",
        "original_stdout = sys.stdout # Save a reference to the original standard output\n",
        "\n",
        "with open('/content/drive/MyDrive/NLP/EvalResults_CNN_MODEL_ACTIVATION_TYPES.txt', 'w') as f:\n",
        "    sys.stdout = f # Change the standard output to the file we created.\n",
        "    for i in evaluations:\n",
        "      print(i)\n",
        "      print(\"\\n\")\n",
        "      print(evaluations[i])\n",
        "      print(\"\\n\")\n",
        "      print(\"\\n\")\n",
        "    sys.stdout = original_stdout # Reset the standard output to its original value"
      ],
      "execution_count": null,
      "outputs": []
    },
    {
      "cell_type": "code",
      "metadata": {
        "id": "gNuk_gTtmljg"
      },
      "source": [
        "import sys\n",
        "\n",
        "original_stdout = sys.stdout # Save a reference to the original standard output\n",
        "\n",
        "with open('/content/drive/MyDrive/NLP/ConfMatri_CNN_MODEL_ACTIVATION_TYPES.txt', 'w') as f:\n",
        "    sys.stdout = f # Change the standard output to the file we created.\n",
        "    for i in confusion_matri:\n",
        "      print(i)\n",
        "      print(\"\\n\")\n",
        "      print(confusion_matri[i])\n",
        "      print(\"\\n\")\n",
        "      print(\"\\n\")\n",
        "    sys.stdout = original_stdout # Reset the standard output to its original value"
      ],
      "execution_count": null,
      "outputs": []
    },
    {
      "cell_type": "markdown",
      "metadata": {
        "id": "rVU3iLkc7f4J"
      },
      "source": [
        "This cell converts the dictionaries which contain the evaluations into a numpy array, which can be loaded back into the notebook at a later date. This enables data to be played with, without having to run the models again."
      ]
    },
    {
      "cell_type": "code",
      "metadata": {
        "id": "8Bh5FDkdjS9j",
        "colab": {
          "base_uri": "https://localhost:8080/"
        },
        "outputId": "8fb302cd-37e3-43fd-e974-8ad4b55570fd"
      },
      "source": [
        "evals = list(evaluations.items())\n",
        "evals = np.asarray(evals)\n",
        "\n",
        "confs = list(confusion_matri.items())\n",
        "confs = np.asarray(confs)\n",
        "\n",
        "\n",
        "np.save(\"/content/drive/MyDrive/NLP/evaluations_CNN_MODEL_ACTIVATION_TYPES.npy\",evals, allow_pickle=True)\n",
        "np.save(\"/content/drive/MyDrive/NLP/confusion_matri_CNN_MODEL_ACTIVATION_TYPES.npy\",confs, allow_pickle=True)"
      ],
      "execution_count": null,
      "outputs": [
        {
          "output_type": "stream",
          "text": [
            "/usr/local/lib/python3.7/dist-packages/numpy/core/_asarray.py:83: VisibleDeprecationWarning: Creating an ndarray from ragged nested sequences (which is a list-or-tuple of lists-or-tuples-or ndarrays with different lengths or shapes) is deprecated. If you meant to do this, you must specify 'dtype=object' when creating the ndarray\n",
            "  return array(a, dtype, copy=False, order=order)\n"
          ],
          "name": "stderr"
        }
      ]
    },
    {
      "cell_type": "markdown",
      "metadata": {
        "id": "rEC-jvy6fSXX"
      },
      "source": [
        "Below I have reloaded in the results from training all models and data so they can be viewed within the notepad."
      ]
    },
    {
      "cell_type": "code",
      "metadata": {
        "id": "5Gb9ngq8fRyr"
      },
      "source": [
        "all_confs = np.load('/content/drive/MyDrive/NLP/confusion_matri.npy', allow_pickle=True)\n",
        "all_reports = np.load('/content/drive/MyDrive/NLP/evaluations.npy', allow_pickle=True)"
      ],
      "execution_count": null,
      "outputs": []
    },
    {
      "cell_type": "markdown",
      "metadata": {
        "id": "dI6-TtvRf275"
      },
      "source": [
        "All Classification Reports:"
      ]
    },
    {
      "cell_type": "code",
      "metadata": {
        "colab": {
          "base_uri": "https://localhost:8080/"
        },
        "id": "dlciWwMsflxe",
        "outputId": "339c026d-cd7f-4a35-eadf-4cbdb739422b"
      },
      "source": [
        "for i in all_reports:\n",
        "  print(f' \\n ------------------------------------------------------- \\n \\n {i[0]} \\n\\n {i[1]} \\n')"
      ],
      "execution_count": null,
      "outputs": [
        {
          "output_type": "stream",
          "text": [
            " \n",
            " ------------------------------------------------------- \n",
            " \n",
            " processed-BiDirectionalLSTM \n",
            "\n",
            "               precision    recall  f1-score   support\n",
            "\n",
            "        folk       0.53      0.49      0.51       159\n",
            "    musicals       0.51      0.64      0.57       144\n",
            "        soul       0.53      0.50      0.52       207\n",
            "      reggae       0.61      0.57      0.59       154\n",
            "       grime       0.69      0.67      0.68       107\n",
            "\n",
            "    accuracy                           0.56       771\n",
            "   macro avg       0.58      0.58      0.57       771\n",
            "weighted avg       0.57      0.56      0.56       771\n",
            " \n",
            "\n",
            " \n",
            " ------------------------------------------------------- \n",
            " \n",
            " processed-normalLSTM \n",
            "\n",
            "               precision    recall  f1-score   support\n",
            "\n",
            "        folk       0.00      0.00      0.00         0\n",
            "    musicals       0.03      0.32      0.06        19\n",
            "        soul       0.94      0.30      0.45       660\n",
            "      reggae       0.09      0.25      0.13        53\n",
            "       grime       0.32      0.69      0.44        39\n",
            "\n",
            "    accuracy                           0.31       771\n",
            "   macro avg       0.28      0.31      0.22       771\n",
            "weighted avg       0.83      0.31      0.42       771\n",
            " \n",
            "\n",
            " \n",
            " ------------------------------------------------------- \n",
            " \n",
            " processed-CNN \n",
            "\n",
            "               precision    recall  f1-score   support\n",
            "\n",
            "        folk       0.48      0.48      0.48       145\n",
            "    musicals       0.71      0.67      0.69       200\n",
            "        soul       0.55      0.58      0.56       182\n",
            "      reggae       0.55      0.58      0.56       138\n",
            "       grime       0.88      0.84      0.86       106\n",
            "\n",
            "    accuracy                           0.62       771\n",
            "   macro avg       0.63      0.63      0.63       771\n",
            "weighted avg       0.62      0.62      0.62       771\n",
            " \n",
            "\n",
            " \n",
            " ------------------------------------------------------- \n",
            " \n",
            " processed-Merged LSTM + CNN \n",
            "\n",
            "               precision    recall  f1-score   support\n",
            "\n",
            "        folk       0.51      0.41      0.45       180\n",
            "    musicals       0.28      0.32      0.30       160\n",
            "        soul       0.51      0.37      0.43       275\n",
            "      reggae       0.25      0.33      0.28       109\n",
            "       grime       0.40      0.87      0.55        47\n",
            "\n",
            "    accuracy                           0.39       771\n",
            "   macro avg       0.39      0.46      0.40       771\n",
            "weighted avg       0.42      0.39      0.39       771\n",
            " \n",
            "\n",
            " \n",
            " ------------------------------------------------------- \n",
            " \n",
            " words-BiDirectionalLSTM \n",
            "\n",
            "               precision    recall  f1-score   support\n",
            "\n",
            "        folk       0.56      0.42      0.48       215\n",
            "    musicals       0.53      0.62      0.57       172\n",
            "        soul       0.45      0.46      0.46       185\n",
            "      reggae       0.56      0.57      0.56       121\n",
            "       grime       0.74      0.87      0.80        78\n",
            "\n",
            "    accuracy                           0.54       771\n",
            "   macro avg       0.57      0.59      0.57       771\n",
            "weighted avg       0.54      0.54      0.54       771\n",
            " \n",
            "\n",
            " \n",
            " ------------------------------------------------------- \n",
            " \n",
            " words-normalLSTM \n",
            "\n",
            "               precision    recall  f1-score   support\n",
            "\n",
            "        folk       0.86      0.26      0.40       514\n",
            "    musicals       0.10      0.40      0.16        43\n",
            "        soul       0.07      0.42      0.12        31\n",
            "      reggae       0.24      0.29      0.26       125\n",
            "       grime       0.50      0.88      0.64        58\n",
            "\n",
            "    accuracy                           0.33       771\n",
            "   macro avg       0.35      0.45      0.32       771\n",
            "weighted avg       0.66      0.33      0.37       771\n",
            " \n",
            "\n",
            " \n",
            " ------------------------------------------------------- \n",
            " \n",
            " words-CNN \n",
            "\n",
            "               precision    recall  f1-score   support\n",
            "\n",
            "        folk       0.35      0.44      0.39       126\n",
            "    musicals       0.61      0.69      0.65       185\n",
            "        soul       0.64      0.42      0.50       250\n",
            "      reggae       0.64      0.61      0.62       152\n",
            "       grime       0.48      0.81      0.61        58\n",
            "\n",
            "    accuracy                           0.55       771\n",
            "   macro avg       0.55      0.59      0.56       771\n",
            "weighted avg       0.57      0.55      0.55       771\n",
            " \n",
            "\n",
            " \n",
            " ------------------------------------------------------- \n",
            " \n",
            " words-Merged LSTM + CNN \n",
            "\n",
            "               precision    recall  f1-score   support\n",
            "\n",
            "        folk       0.85      0.39      0.54       375\n",
            "    musicals       0.28      0.53      0.37        98\n",
            "        soul       0.13      0.33      0.19        73\n",
            "      reggae       0.45      0.48      0.47       135\n",
            "       grime       0.69      0.70      0.70        90\n",
            "\n",
            "    accuracy                           0.46       771\n",
            "   macro avg       0.48      0.49      0.45       771\n",
            "weighted avg       0.62      0.46      0.49       771\n",
            " \n",
            "\n",
            " \n",
            " ------------------------------------------------------- \n",
            " \n",
            " stopwords-BiDirectionalLSTM \n",
            "\n",
            "               precision    recall  f1-score   support\n",
            "\n",
            "        folk       0.43      0.53      0.47       129\n",
            "    musicals       0.74      0.55      0.63       239\n",
            "        soul       0.65      0.60      0.62       204\n",
            "      reggae       0.56      0.75      0.64       105\n",
            "       grime       0.81      0.88      0.84        94\n",
            "\n",
            "    accuracy                           0.63       771\n",
            "   macro avg       0.64      0.66      0.64       771\n",
            "weighted avg       0.65      0.63      0.63       771\n",
            " \n",
            "\n",
            " \n",
            " ------------------------------------------------------- \n",
            " \n",
            " stopwords-normalLSTM \n",
            "\n",
            "               precision    recall  f1-score   support\n",
            "\n",
            "        folk       0.00      0.00      0.00         0\n",
            "    musicals       0.00      0.00      0.00         1\n",
            "        soul       0.06      0.13      0.08        92\n",
            "      reggae       0.00      0.00      0.00         0\n",
            "       grime       1.00      0.14      0.24       678\n",
            "\n",
            "    accuracy                           0.14       771\n",
            "   macro avg       0.21      0.05      0.06       771\n",
            "weighted avg       0.89      0.14      0.22       771\n",
            " \n",
            "\n",
            " \n",
            " ------------------------------------------------------- \n",
            " \n",
            " stopwords-CNN \n",
            "\n",
            "               precision    recall  f1-score   support\n",
            "\n",
            "        folk       0.24      0.77      0.36        53\n",
            "    musicals       0.76      0.53      0.62       261\n",
            "        soul       0.50      0.55      0.52       166\n",
            "      reggae       0.64      0.38      0.48       240\n",
            "       grime       0.40      0.71      0.51        51\n",
            "\n",
            "    accuracy                           0.52       771\n",
            "   macro avg       0.51      0.59      0.50       771\n",
            "weighted avg       0.61      0.52      0.53       771\n",
            " \n",
            "\n",
            " \n",
            " ------------------------------------------------------- \n",
            " \n",
            " stopwords-Merged LSTM + CNN \n",
            "\n",
            "               precision    recall  f1-score   support\n",
            "\n",
            "        folk       0.71      0.40      0.51       296\n",
            "    musicals       0.10      0.30      0.15        57\n",
            "        soul       0.50      0.40      0.44       243\n",
            "      reggae       0.33      0.33      0.33       138\n",
            "       grime       0.30      0.84      0.45        37\n",
            "\n",
            "    accuracy                           0.40       771\n",
            "   macro avg       0.39      0.45      0.38       771\n",
            "weighted avg       0.51      0.40      0.43       771\n",
            " \n",
            "\n",
            " \n",
            " ------------------------------------------------------- \n",
            " \n",
            " Stemmed-BiDirectionalLSTM \n",
            "\n",
            "               precision    recall  f1-score   support\n",
            "\n",
            "        folk       0.63      0.52      0.57       205\n",
            "    musicals       0.63      0.69      0.66       175\n",
            "        soul       0.57      0.60      0.58       183\n",
            "      reggae       0.60      0.61      0.60       128\n",
            "       grime       0.77      0.90      0.83        80\n",
            "\n",
            "    accuracy                           0.63       771\n",
            "   macro avg       0.64      0.66      0.65       771\n",
            "weighted avg       0.63      0.63      0.63       771\n",
            " \n",
            "\n",
            " \n",
            " ------------------------------------------------------- \n",
            " \n",
            " Stemmed-normalLSTM \n",
            "\n",
            "               precision    recall  f1-score   support\n",
            "\n",
            "        folk       0.00      0.00      0.00         0\n",
            "    musicals       0.00      0.00      0.00         0\n",
            "        soul       0.99      0.24      0.38       728\n",
            "      reggae       0.05      0.41      0.08        17\n",
            "       grime       0.22      0.77      0.34        26\n",
            "\n",
            "    accuracy                           0.26       771\n",
            "   macro avg       0.25      0.28      0.16       771\n",
            "weighted avg       0.95      0.26      0.38       771\n",
            " \n",
            "\n",
            " \n",
            " ------------------------------------------------------- \n",
            " \n",
            " Stemmed-CNN \n",
            "\n",
            "               precision    recall  f1-score   support\n",
            "\n",
            "        folk       0.40      0.52      0.45       132\n",
            "    musicals       0.70      0.54      0.61       254\n",
            "        soul       0.46      0.54      0.50       149\n",
            "      reggae       0.57      0.44      0.49       176\n",
            "       grime       0.54      0.83      0.65        60\n",
            "\n",
            "    accuracy                           0.54       771\n",
            "   macro avg       0.53      0.57      0.54       771\n",
            "weighted avg       0.56      0.54      0.54       771\n",
            " \n",
            "\n",
            " \n",
            " ------------------------------------------------------- \n",
            " \n",
            " Stemmed-Merged LSTM + CNN \n",
            "\n",
            "               precision    recall  f1-score   support\n",
            "\n",
            "        folk       0.00      0.00      0.00         0\n",
            "    musicals       0.67      0.32      0.44       408\n",
            "        soul       0.28      0.30      0.29       169\n",
            "      reggae       0.48      0.53      0.51       122\n",
            "       grime       0.69      0.88      0.77        72\n",
            "\n",
            "    accuracy                           0.40       771\n",
            "   macro avg       0.42      0.41      0.40       771\n",
            "weighted avg       0.56      0.40      0.45       771\n",
            " \n",
            "\n",
            " \n",
            " ------------------------------------------------------- \n",
            " \n",
            " Lemmatised-BiDirectionalLSTM \n",
            "\n",
            "               precision    recall  f1-score   support\n",
            "\n",
            "        folk       0.88      0.36      0.51       402\n",
            "    musicals       0.20      0.70      0.31        50\n",
            "        soul       0.44      0.57      0.50       152\n",
            "      reggae       0.40      0.71      0.51        76\n",
            "       grime       0.76      0.84      0.80        91\n",
            "\n",
            "    accuracy                           0.52       771\n",
            "   macro avg       0.54      0.64      0.53       771\n",
            "weighted avg       0.69      0.52      0.53       771\n",
            " \n",
            "\n",
            " \n",
            " ------------------------------------------------------- \n",
            " \n",
            " Lemmatised-normalLSTM \n",
            "\n",
            "               precision    recall  f1-score   support\n",
            "\n",
            "        folk       0.00      0.00      0.00         0\n",
            "    musicals       0.01      0.20      0.01         5\n",
            "        soul       0.98      0.23      0.37       730\n",
            "      reggae       0.01      1.00      0.01         1\n",
            "       grime       0.18      0.49      0.26        35\n",
            "\n",
            "    accuracy                           0.24       771\n",
            "   macro avg       0.23      0.38      0.13       771\n",
            "weighted avg       0.94      0.24      0.36       771\n",
            " \n",
            "\n",
            " \n",
            " ------------------------------------------------------- \n",
            " \n",
            " Lemmatised-CNN \n",
            "\n",
            "               precision    recall  f1-score   support\n",
            "\n",
            "        folk       0.59      0.51      0.55       201\n",
            "    musicals       0.62      0.69      0.65       160\n",
            "        soul       0.58      0.55      0.56       198\n",
            "      reggae       0.60      0.61      0.60       125\n",
            "       grime       0.77      0.97      0.86        87\n",
            "\n",
            "    accuracy                           0.62       771\n",
            "   macro avg       0.63      0.66      0.64       771\n",
            "weighted avg       0.62      0.62      0.62       771\n",
            " \n",
            "\n",
            " \n",
            " ------------------------------------------------------- \n",
            " \n",
            " Lemmatised-Merged LSTM + CNN \n",
            "\n",
            "               precision    recall  f1-score   support\n",
            "\n",
            "        folk       0.00      0.00      0.00         0\n",
            "    musicals       0.81      0.32      0.46       452\n",
            "        soul       0.32      0.40      0.35       163\n",
            "      reggae       0.31      0.39      0.34       102\n",
            "       grime       0.48      0.89      0.62        54\n",
            "\n",
            "    accuracy                           0.39       771\n",
            "   macro avg       0.38      0.40      0.36       771\n",
            "weighted avg       0.62      0.39      0.43       771\n",
            " \n",
            "\n"
          ],
          "name": "stdout"
        }
      ]
    },
    {
      "cell_type": "markdown",
      "metadata": {
        "id": "DVbKSZyCf5pO"
      },
      "source": [
        "All Confusion Matrix:"
      ]
    },
    {
      "cell_type": "code",
      "metadata": {
        "colab": {
          "base_uri": "https://localhost:8080/"
        },
        "id": "-BVy7MH4f5vt",
        "outputId": "3fb51510-07b4-4eb9-d49f-cfa8016958dd"
      },
      "source": [
        "for i in all_confs:\n",
        "  print(f' \\n ---------------------------\\n \\n {i[0]} \\n\\n {i[1]} \\n')"
      ],
      "execution_count": null,
      "outputs": [
        {
          "output_type": "stream",
          "text": [
            " \n",
            " ---------------------------\n",
            " \n",
            " processed-BiDirectionalLSTM \n",
            "\n",
            " [[ 78  33  33  10   5]\n",
            " [ 23  92  18   8   3]\n",
            " [ 30  32 104  30  11]\n",
            " [ 11  16  26  88  13]\n",
            " [  4   8  15   8  72]] \n",
            "\n",
            " \n",
            " ---------------------------\n",
            " \n",
            " processed-normalLSTM \n",
            "\n",
            " [[  0   0   0   0   0]\n",
            " [  0   6   2   2   9]\n",
            " [151 167 196 121  25]\n",
            " [  0   9   8  13  23]\n",
            " [  1   1   2   8  27]] \n",
            "\n",
            " \n",
            " ---------------------------\n",
            " \n",
            " processed-CNN \n",
            "\n",
            " [[ 70  28  23  23   1]\n",
            " [ 34 133  27   5   1]\n",
            " [ 25  17 105  30   5]\n",
            " [ 17   8  28  80   5]\n",
            " [  0   1   8   8  89]] \n",
            "\n",
            " \n",
            " ---------------------------\n",
            " \n",
            " processed-Merged LSTM + CNN \n",
            "\n",
            " [[ 73  64  30  13   0]\n",
            " [ 42  51  46  17   4]\n",
            " [ 27  59 101  73  15]\n",
            " [  2  10  19  36  42]\n",
            " [  0   0   1   5  41]] \n",
            "\n",
            " \n",
            " ---------------------------\n",
            " \n",
            " words-BiDirectionalLSTM \n",
            "\n",
            " [[ 90  50  52  18   5]\n",
            " [ 32 107  18   9   6]\n",
            " [ 29  37  86  26   7]\n",
            " [ 10   5  31  69   6]\n",
            " [  1   3   4   2  68]] \n",
            "\n",
            " \n",
            " ---------------------------\n",
            " \n",
            " words-normalLSTM \n",
            "\n",
            " [[136 128 143  91  16]\n",
            " [  2  17  12  11   1]\n",
            " [  1   8  13   6   3]\n",
            " [ 20  15  23  36  31]\n",
            " [  0   1   2   4  51]] \n",
            "\n",
            " \n",
            " ---------------------------\n",
            " \n",
            " words-CNN \n",
            "\n",
            " [[ 56  34  27   9   0]\n",
            " [ 41 128  11   5   0]\n",
            " [ 51  37 104  36  22]\n",
            " [  9   6  17  92  28]\n",
            " [  1   4   4   2  47]] \n",
            "\n",
            " \n",
            " ---------------------------\n",
            " \n",
            " words-Merged LSTM + CNN \n",
            "\n",
            " [[147  99  88  39   2]\n",
            " [ 12  52  30   4   0]\n",
            " [ 12  19  24  15   3]\n",
            " [  2  13  32  65  23]\n",
            " [  0   0   7  20  63]] \n",
            "\n",
            " \n",
            " ---------------------------\n",
            " \n",
            " stopwords-BiDirectionalLSTM \n",
            "\n",
            " [[ 69  22  27  11   0]\n",
            " [ 58 132  26  18   5]\n",
            " [ 30  19 122  24   9]\n",
            " [  5   6   9  79   6]\n",
            " [  0   0   3   8  83]] \n",
            "\n",
            " \n",
            " ---------------------------\n",
            " \n",
            " stopwords-normalLSTM \n",
            "\n",
            " [[  0   0   0   0   0]\n",
            " [  0   0   0   1   0]\n",
            " [ 41  26  12  13   0]\n",
            " [  0   0   0   0   0]\n",
            " [119 152 187 127  93]] \n",
            "\n",
            " \n",
            " ---------------------------\n",
            " \n",
            " stopwords-CNN \n",
            "\n",
            " [[ 41   4   3   4   1]\n",
            " [ 69 139  38  15   0]\n",
            " [ 28  18  91  25   4]\n",
            " [ 34  21  44  92  49]\n",
            " [  1   2   5   7  36]] \n",
            "\n",
            " \n",
            " ---------------------------\n",
            " \n",
            " stopwords-Merged LSTM + CNN \n",
            "\n",
            " [[117  96  63  20   0]\n",
            " [ 19  17  18   2   1]\n",
            " [ 27  50  97  67   2]\n",
            " [  2   6  16  46  68]\n",
            " [  0   0   0   6  31]] \n",
            "\n",
            " \n",
            " ---------------------------\n",
            " \n",
            " Stemmed-BiDirectionalLSTM \n",
            "\n",
            " [[106  42  40  15   2]\n",
            " [ 30 121  17   5   2]\n",
            " [ 23  17 109  29   5]\n",
            " [  7  11  20  78  12]\n",
            " [  1   0   4   3  72]] \n",
            "\n",
            " \n",
            " ---------------------------\n",
            " \n",
            " Stemmed-normalLSTM \n",
            "\n",
            " [[  0   0   0   0   0]\n",
            " [  0   0   0   0   0]\n",
            " [163 189 173 138  65]\n",
            " [  1   3   1   7   5]\n",
            " [  0   2   0   4  20]] \n",
            "\n",
            " \n",
            " ---------------------------\n",
            " \n",
            " Stemmed-CNN \n",
            "\n",
            " [[ 68  28  25  11   0]\n",
            " [ 62 137  34  19   2]\n",
            " [ 27  13  81  22   6]\n",
            " [ 13  19  32  77  35]\n",
            " [  0   0   3   7  50]] \n",
            "\n",
            " \n",
            " ---------------------------\n",
            " \n",
            " Stemmed-Merged LSTM + CNN \n",
            "\n",
            " [[  0   0   0   0   0]\n",
            " [139 132 111  25   1]\n",
            " [ 26  54  50  38   1]\n",
            " [  6  11  14  65  26]\n",
            " [  0   1   1   7  63]] \n",
            "\n",
            " \n",
            " ---------------------------\n",
            " \n",
            " Lemmatised-BiDirectionalLSTM \n",
            "\n",
            " [[146 125  85  44   2]\n",
            " [  0  35   5   5   5]\n",
            " [ 16  10  87  26  13]\n",
            " [  4   2  12  54   4]\n",
            " [  0   1   9   5  76]] \n",
            "\n",
            " \n",
            " ---------------------------\n",
            " \n",
            " Lemmatised-normalLSTM \n",
            "\n",
            " [[  0   0   0   0   0]\n",
            " [  3   1   0   0   1]\n",
            " [170 174 168 140  78]\n",
            " [  0   0   0   1   0]\n",
            " [  1   2   3  12  17]] \n",
            "\n",
            " \n",
            " ---------------------------\n",
            " \n",
            " Lemmatised-CNN \n",
            "\n",
            " [[102  40  46  13   0]\n",
            " [ 25 110  11   9   5]\n",
            " [ 31  20 108  28  11]\n",
            " [ 14   5  21  76   9]\n",
            " [  0   1   1   1  84]] \n",
            "\n",
            " \n",
            " ---------------------------\n",
            " \n",
            " Lemmatised-Merged LSTM + CNN \n",
            "\n",
            " [[  0   0   0   0   0]\n",
            " [142 145 126  35   4]\n",
            " [ 15  28  65  49   6]\n",
            " [  0   6  13  40  43]\n",
            " [  0   0   0   6  48]] \n",
            "\n"
          ],
          "name": "stdout"
        }
      ]
    },
    {
      "cell_type": "markdown",
      "metadata": {
        "id": "bXTvL1qP74PR"
      },
      "source": [
        "From the results acquired - it seemed like the CNN model and the Bi-Directional LSTM model had the most potential.\n",
        "\n",
        "The method of training these models was in no way perfect - there are many parameters and hyper-parameters that can be tuned and changed. This method used the same batch size and epochs for each of the models - and it's clear that some models such as LSTM may benefit from more epochs.\n",
        "\n",
        "Besides this - the purpose of this first method to evaluate all the models was to observe which was the most promising.\n",
        "\n",
        "Additional testing of the CNN model was done following these tests.\n",
        "\n",
        "The batch size and epochs were adjusted, and two different activation functions were tested - softmax and sigmoid.\n",
        "\n",
        "The text files can be viewed below, as well as at these links:\n",
        "\n",
        "**[CNN Classification Reports](https://drive.google.com/file/d/1CmwUG467ZAQ8uoBotM2pfUqIq8EQQ5vP/view?usp=sharing)**\n",
        "\n",
        "**[CNN Confusion Matrixes](https://drive.google.com/file/d/1-4rqtWAP6_6Vw2Adgkg3K8XJhU2vqg8p/view?usp=sharing)**"
      ]
    },
    {
      "cell_type": "markdown",
      "metadata": {
        "id": "6-wKL-Mb9nKk"
      },
      "source": [
        "To view these results, the numpy arrays need to be loaded back into the notepad:"
      ]
    },
    {
      "cell_type": "code",
      "metadata": {
        "colab": {
          "base_uri": "https://localhost:8080/"
        },
        "id": "bAViYQQc9ti4",
        "outputId": "4dea3ab2-db2d-4f85-ad48-c06d2974bbbb"
      },
      "source": [
        "#Reimport some libraries in the event that the notepad is loaded and all cells before this point are not run.\n",
        "import numpy as np\n",
        "import seaborn as sn\n",
        "import pandas as pd\n",
        "import matplotlib.pyplot as plt\n",
        "from sklearn.metrics import plot_confusion_matrix\n",
        "from google.colab import drive\n",
        "drive.mount('/content/drive')\n",
        "%matplotlib inline \n"
      ],
      "execution_count": null,
      "outputs": [
        {
          "output_type": "stream",
          "text": [
            "Mounted at /content/drive\n"
          ],
          "name": "stdout"
        }
      ]
    },
    {
      "cell_type": "markdown",
      "metadata": {
        "id": "4uSdJNHOL15u"
      },
      "source": [
        "Load in the Numpy arrays from their locations in Google Drive"
      ]
    },
    {
      "cell_type": "code",
      "metadata": {
        "id": "Mufd9FOd-CFN"
      },
      "source": [
        "cnn_confusion_matri = np.load('/content/drive/MyDrive/NLP/confusion_matri_CNN_MODEL_ACTIVATION_TYPES.npy', allow_pickle=True)\n",
        "cnn_classification_reports = np.load('/content/drive/MyDrive/NLP/evaluations_CNN_MODEL_ACTIVATION_TYPES.npy', allow_pickle=True)"
      ],
      "execution_count": null,
      "outputs": []
    },
    {
      "cell_type": "markdown",
      "metadata": {
        "id": "fQvgApUSMLkb"
      },
      "source": [
        "Let's have a look at the classification reports, see which combinations are the most promising."
      ]
    },
    {
      "cell_type": "code",
      "metadata": {
        "id": "gAJ5wBba-pMH",
        "colab": {
          "base_uri": "https://localhost:8080/"
        },
        "outputId": "c547bbea-c0e9-42bc-eb9d-fd9ca72aaf8a"
      },
      "source": [
        "for i in cnn_classification_reports:\n",
        "  print(f' \\n ------------------------------------------------------- \\n \\n {i[0]} \\n\\n {i[1]} \\n')"
      ],
      "execution_count": null,
      "outputs": [
        {
          "output_type": "stream",
          "text": [
            " \n",
            " ------------------------------------------------------- \n",
            " \n",
            " processed-CNN-softmax \n",
            "\n",
            "               precision    recall  f1-score   support\n",
            "\n",
            "        soul       0.70      0.61      0.65       206\n",
            "    musicals       0.66      0.66      0.66       192\n",
            "      reggae       0.56      0.75      0.64       110\n",
            "       grime       0.80      0.91      0.85        78\n",
            "        folk       0.62      0.56      0.59       185\n",
            "\n",
            "    accuracy                           0.66       771\n",
            "   macro avg       0.67      0.70      0.68       771\n",
            "weighted avg       0.66      0.66      0.66       771\n",
            " \n",
            "\n",
            " \n",
            " ------------------------------------------------------- \n",
            " \n",
            " processed-CNN-sigmoid \n",
            "\n",
            "               precision    recall  f1-score   support\n",
            "\n",
            "        soul       0.51      0.59      0.55       153\n",
            "    musicals       0.76      0.63      0.69       234\n",
            "      reggae       0.58      0.52      0.55       150\n",
            "       grime       0.51      0.92      0.66        51\n",
            "        folk       0.56      0.52      0.54       183\n",
            "\n",
            "    accuracy                           0.60       771\n",
            "   macro avg       0.58      0.64      0.60       771\n",
            "weighted avg       0.61      0.60      0.60       771\n",
            " \n",
            "\n",
            " \n",
            " ------------------------------------------------------- \n",
            " \n",
            " words-CNN-softmax \n",
            "\n",
            "               precision    recall  f1-score   support\n",
            "\n",
            "        soul       0.56      0.62      0.59       159\n",
            "    musicals       0.71      0.70      0.70       188\n",
            "      reggae       0.63      0.65      0.64       132\n",
            "       grime       0.92      0.85      0.88        99\n",
            "        folk       0.59      0.55      0.57       193\n",
            "\n",
            "    accuracy                           0.66       771\n",
            "   macro avg       0.68      0.67      0.68       771\n",
            "weighted avg       0.66      0.66      0.66       771\n",
            " \n",
            "\n",
            " \n",
            " ------------------------------------------------------- \n",
            " \n",
            " words-CNN-sigmoid \n",
            "\n",
            "               precision    recall  f1-score   support\n",
            "\n",
            "        soul       0.54      0.55      0.54       185\n",
            "    musicals       0.74      0.65      0.69       212\n",
            "      reggae       0.63      0.60      0.61       144\n",
            "       grime       0.85      0.86      0.86       103\n",
            "        folk       0.47      0.57      0.51       127\n",
            "\n",
            "    accuracy                           0.63       771\n",
            "   macro avg       0.64      0.65      0.64       771\n",
            "weighted avg       0.64      0.63      0.63       771\n",
            " \n",
            "\n",
            " \n",
            " ------------------------------------------------------- \n",
            " \n",
            " stopwords-CNN-softmax \n",
            "\n",
            "               precision    recall  f1-score   support\n",
            "\n",
            "        soul       0.53      0.51      0.52       183\n",
            "    musicals       0.58      0.50      0.54       205\n",
            "      reggae       0.60      0.63      0.62       139\n",
            "       grime       0.83      0.81      0.82        93\n",
            "        folk       0.45      0.53      0.49       151\n",
            "\n",
            "    accuracy                           0.57       771\n",
            "   macro avg       0.60      0.60      0.60       771\n",
            "weighted avg       0.58      0.57      0.57       771\n",
            " \n",
            "\n",
            " \n",
            " ------------------------------------------------------- \n",
            " \n",
            " stopwords-CNN-sigmoid \n",
            "\n",
            "               precision    recall  f1-score   support\n",
            "\n",
            "        soul       0.68      0.37      0.48       332\n",
            "    musicals       0.68      0.68      0.68       176\n",
            "      reggae       0.46      0.69      0.55        87\n",
            "       grime       0.08      0.62      0.14        13\n",
            "        folk       0.51      0.56      0.53       163\n",
            "\n",
            "    accuracy                           0.52       771\n",
            "   macro avg       0.48      0.58      0.48       771\n",
            "weighted avg       0.61      0.52      0.54       771\n",
            " \n",
            "\n",
            " \n",
            " ------------------------------------------------------- \n",
            " \n",
            " Stemmed-CNN-softmax \n",
            "\n",
            "               precision    recall  f1-score   support\n",
            "\n",
            "        soul       0.56      0.56      0.56       196\n",
            "    musicals       0.63      0.71      0.67       161\n",
            "      reggae       0.69      0.55      0.61       159\n",
            "       grime       0.76      0.94      0.84        83\n",
            "        folk       0.59      0.56      0.57       172\n",
            "\n",
            "    accuracy                           0.63       771\n",
            "   macro avg       0.65      0.67      0.65       771\n",
            "weighted avg       0.63      0.63      0.63       771\n",
            " \n",
            "\n",
            " \n",
            " ------------------------------------------------------- \n",
            " \n",
            " Stemmed-CNN-sigmoid \n",
            "\n",
            "               precision    recall  f1-score   support\n",
            "\n",
            "        soul       0.57      0.57      0.57       197\n",
            "    musicals       0.69      0.69      0.69       190\n",
            "      reggae       0.56      0.55      0.55       152\n",
            "       grime       0.80      0.80      0.80        86\n",
            "        folk       0.57      0.58      0.57       146\n",
            "\n",
            "    accuracy                           0.62       771\n",
            "   macro avg       0.64      0.64      0.64       771\n",
            "weighted avg       0.62      0.62      0.62       771\n",
            " \n",
            "\n",
            " \n",
            " ------------------------------------------------------- \n",
            " \n",
            " Lemmatised-CNN-softmax \n",
            "\n",
            "               precision    recall  f1-score   support\n",
            "\n",
            "        soul       0.49      0.65      0.56       148\n",
            "    musicals       0.67      0.49      0.57       237\n",
            "      reggae       0.61      0.70      0.65       124\n",
            "       grime       0.84      0.90      0.87        96\n",
            "        folk       0.57      0.54      0.55       166\n",
            "\n",
            "    accuracy                           0.62       771\n",
            "   macro avg       0.64      0.66      0.64       771\n",
            "weighted avg       0.63      0.62      0.61       771\n",
            " \n",
            "\n",
            " \n",
            " ------------------------------------------------------- \n",
            " \n",
            " Lemmatised-CNN-sigmoid \n",
            "\n",
            "               precision    recall  f1-score   support\n",
            "\n",
            "        soul       0.64      0.44      0.52       286\n",
            "    musicals       0.53      0.54      0.54       189\n",
            "      reggae       0.60      0.45      0.52       188\n",
            "       grime       0.27      0.74      0.39        27\n",
            "        folk       0.32      0.65      0.43        81\n",
            "\n",
            "    accuracy                           0.50       771\n",
            "   macro avg       0.47      0.57      0.48       771\n",
            "weighted avg       0.56      0.50      0.51       771\n",
            " \n",
            "\n"
          ],
          "name": "stdout"
        }
      ]
    },
    {
      "cell_type": "markdown",
      "metadata": {
        "id": "Axxw8InFMSME"
      },
      "source": [
        "From these results it seems like the following two dataset / models combinations are the best:\n",
        "\n",
        "- Softmax Activation with the processed data - **66% Accuracy**\n",
        "- Softmax Activation with the Tokenised-only data - **66% Accuracy**\n",
        "\n",
        "There are a few other combinations which are only slightly worse, such as Softmax with the stemmed data\n"
      ]
    },
    {
      "cell_type": "code",
      "metadata": {
        "colab": {
          "base_uri": "https://localhost:8080/",
          "height": 726
        },
        "id": "qT2D7AQg8leW",
        "outputId": "64b7af44-39cf-4949-f12f-868b6cc43562"
      },
      "source": [
        "#Required for plotting confusion matrix axis labels\n",
        "genres = [\"soul\", \"musicals\", \"reggae\", \"grime\", \"folk\"]\n",
        "\n",
        "#Just the confusion matrix that we want to see\n",
        "matrixes_to_view = [cnn_confusion_matri[0], cnn_confusion_matri[2]]\n",
        "\n",
        "#Create the subplot\n",
        "fig, axn = plt.subplots(2, 1,figsize=(8,12))\n",
        "\n",
        "#Show the confusion matrixes\n",
        "for i, ax in enumerate(axn.flat):\n",
        "  if i < len(cnn_classification_reports):\n",
        "    df_cm = pd.DataFrame(matrixes_to_view[i][1], index = [i for i in genres], columns = [i for i in genres])\n",
        "    sn.heatmap(df_cm, cmap='Blues', annot=True, fmt='g', ax=ax)\n",
        "    ax.set_title(matrixes_to_view[i][0],fontsize=15)"
      ],
      "execution_count": null,
      "outputs": [
        {
          "output_type": "display_data",
          "data": {
            "image/png": "[encoded data removed]",
            "text/plain": [
              "<Figure size 576x864 with 4 Axes>"
            ]
          },
          "metadata": {
            "tags": []
          }
        }
      ]
    },
    {
      "cell_type": "markdown",
      "metadata": {
        "id": "N3_p3N8PPFIl"
      },
      "source": [
        "Looking at the two confusion matrix above, Grime is by far the most consistent class, having the best recall and precision scores. I don't think this is that surprising as I'd expect Grime music to have the most distinctive lyrics.\n",
        "\n",
        "Folk and Soul seem to struggle, with quite a few of the songs from those categories being classifies as each others. \n",
        "\n",
        "From the results we've seen, the model does ok at classifying the genres selected. Although 66% isn't the greatest accuracy, this is a 5 class problem and the data is far from perfect. \n",
        "\n",
        "Going forward - I would be interested to see the results of these models with a larger, more balanced dataset. These models could also probably be more accurate with additional tuning, but it's simply trial and error.\n"
      ]
    }
  ]
}